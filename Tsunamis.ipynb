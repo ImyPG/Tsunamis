{
 "cells": [
  {
   "cell_type": "markdown",
   "metadata": {},
   "source": [
    "# Tsunamis from year 1800 to 2021\n",
    "\n"
   ]
  },
  {
   "cell_type": "code",
   "execution_count": 1,
   "metadata": {},
   "outputs": [
    {
     "name": "stdout",
     "output_type": "stream",
     "text": [
      "Requirement already satisfied: folium in c:\\users\\imypo\\anaconda3\\lib\\site-packages (0.12.1.post1)\n",
      "Requirement already satisfied: branca>=0.3.0 in c:\\users\\imypo\\anaconda3\\lib\\site-packages (from folium) (0.4.2)\n",
      "Requirement already satisfied: jinja2>=2.9 in c:\\users\\imypo\\anaconda3\\lib\\site-packages (from folium) (2.11.3)\n",
      "Requirement already satisfied: requests in c:\\users\\imypo\\anaconda3\\lib\\site-packages (from folium) (2.25.1)\n",
      "Requirement already satisfied: numpy in c:\\users\\imypo\\anaconda3\\lib\\site-packages (from folium) (1.20.1)\n",
      "Requirement already satisfied: MarkupSafe>=0.23 in c:\\users\\imypo\\anaconda3\\lib\\site-packages (from jinja2>=2.9->folium) (1.1.1)\n",
      "Requirement already satisfied: chardet<5,>=3.0.2 in c:\\users\\imypo\\anaconda3\\lib\\site-packages (from requests->folium) (4.0.0)\n",
      "Requirement already satisfied: certifi>=2017.4.17 in c:\\users\\imypo\\anaconda3\\lib\\site-packages (from requests->folium) (2020.12.5)\n",
      "Requirement already satisfied: urllib3<1.27,>=1.21.1 in c:\\users\\imypo\\anaconda3\\lib\\site-packages (from requests->folium) (1.26.4)\n",
      "Requirement already satisfied: idna<3,>=2.5 in c:\\users\\imypo\\anaconda3\\lib\\site-packages (from requests->folium) (2.10)\n"
     ]
    }
   ],
   "source": [
    "!pip install folium"
   ]
  },
  {
   "cell_type": "code",
   "execution_count": 2,
   "metadata": {},
   "outputs": [
    {
     "name": "stdout",
     "output_type": "stream",
     "text": [
      "Requirement already satisfied: pandas in c:\\users\\imypo\\anaconda3\\lib\\site-packages (1.2.4)\n",
      "Requirement already satisfied: python-dateutil>=2.7.3 in c:\\users\\imypo\\anaconda3\\lib\\site-packages (from pandas) (2.8.1)\n",
      "Requirement already satisfied: numpy>=1.16.5 in c:\\users\\imypo\\anaconda3\\lib\\site-packages (from pandas) (1.20.1)\n",
      "Requirement already satisfied: pytz>=2017.3 in c:\\users\\imypo\\anaconda3\\lib\\site-packages (from pandas) (2021.1)\n",
      "Requirement already satisfied: six>=1.5 in c:\\users\\imypo\\anaconda3\\lib\\site-packages (from python-dateutil>=2.7.3->pandas) (1.15.0)\n"
     ]
    }
   ],
   "source": [
    "!pip install pandas"
   ]
  },
  {
   "cell_type": "markdown",
   "metadata": {},
   "source": [
    "![title](unnamed.png)"
   ]
  },
  {
   "cell_type": "markdown",
   "metadata": {
    "tags": [
     "5_min"
    ]
   },
   "source": [
    "## About Tsunamis\n",
    "Tsunamis are caused by earthquakes, volcanic eruptions, or landslides in seas and oceans. Such movements can transport vast amounts of water, creating huge waves. A tsunami is usually a series of waves, although frequently, the first wave is not the most destructive. Their destruction power is enormous, also illustrated by the fact that they can reach a width of up to 100 kilometres, a height of up to 30 meters, and a speed of up to 800 kilometres per hour (in the deep ocean). "
   ]
  },
  {
   "cell_type": "markdown",
   "metadata": {},
   "source": [
    "## Load Data"
   ]
  },
  {
   "cell_type": "code",
   "execution_count": 1,
   "metadata": {},
   "outputs": [],
   "source": [
    "import pandas as pd\n",
    "import seaborn as sns\n",
    "from matplotlib import pyplot as plt\n",
    "import matplotlib.pyplot as plt2\n",
    "import folium"
   ]
  },
  {
   "cell_type": "code",
   "execution_count": 2,
   "metadata": {},
   "outputs": [],
   "source": [
    "tsunamis = pd.read_csv('data/tsunami_1800to2021.csv', delimiter=\",\", encoding='utf-8')\n"
   ]
  },
  {
   "cell_type": "markdown",
   "metadata": {},
   "source": [
    "I have added column 'Earthquake Mayor/Great'where 1 ('yes') represents Earthquakes above 7.0 magnitude in the Richter scale. These are Earthquakes which cause serious or severe destruction and loss of life over large areas."
   ]
  },
  {
   "cell_type": "code",
   "execution_count": 4,
   "metadata": {},
   "outputs": [],
   "source": [
    "tsunamis['Earthquake Mayor/Great']=0"
   ]
  },
  {
   "cell_type": "code",
   "execution_count": 5,
   "metadata": {},
   "outputs": [
    {
     "data": {
      "text/html": [
       "<div>\n",
       "<style scoped>\n",
       "    .dataframe tbody tr th:only-of-type {\n",
       "        vertical-align: middle;\n",
       "    }\n",
       "\n",
       "    .dataframe tbody tr th {\n",
       "        vertical-align: top;\n",
       "    }\n",
       "\n",
       "    .dataframe thead th {\n",
       "        text-align: right;\n",
       "    }\n",
       "</style>\n",
       "<table border=\"1\" class=\"dataframe\">\n",
       "  <thead>\n",
       "    <tr style=\"text-align: right;\">\n",
       "      <th></th>\n",
       "      <th>Year</th>\n",
       "      <th>Mo</th>\n",
       "      <th>Dy</th>\n",
       "      <th>Hr</th>\n",
       "      <th>Mn</th>\n",
       "      <th>Sec</th>\n",
       "      <th>Tsunami Event Validity</th>\n",
       "      <th>Tsunami Cause Code</th>\n",
       "      <th>Earthquake Magnitude</th>\n",
       "      <th>Deposits</th>\n",
       "      <th>...</th>\n",
       "      <th>Tsunami Intensity</th>\n",
       "      <th>Total Deaths</th>\n",
       "      <th>Total Missing</th>\n",
       "      <th>Total Missing Description</th>\n",
       "      <th>Total Injuries</th>\n",
       "      <th>Total Damage ($Mil)</th>\n",
       "      <th>Total Damage Description</th>\n",
       "      <th>Total Houses Destroyed</th>\n",
       "      <th>Total Houses Damaged</th>\n",
       "      <th>Earthquake Mayor/Great</th>\n",
       "    </tr>\n",
       "  </thead>\n",
       "  <tbody>\n",
       "    <tr>\n",
       "      <th>0</th>\n",
       "      <td>NaN</td>\n",
       "      <td>NaN</td>\n",
       "      <td>NaN</td>\n",
       "      <td>NaN</td>\n",
       "      <td>NaN</td>\n",
       "      <td>NaN</td>\n",
       "      <td>NaN</td>\n",
       "      <td>NaN</td>\n",
       "      <td>NaN</td>\n",
       "      <td>NaN</td>\n",
       "      <td>...</td>\n",
       "      <td>NaN</td>\n",
       "      <td>NaN</td>\n",
       "      <td>NaN</td>\n",
       "      <td>NaN</td>\n",
       "      <td>NaN</td>\n",
       "      <td>NaN</td>\n",
       "      <td>NaN</td>\n",
       "      <td>NaN</td>\n",
       "      <td>NaN</td>\n",
       "      <td>0</td>\n",
       "    </tr>\n",
       "    <tr>\n",
       "      <th>1</th>\n",
       "      <td>1800.0</td>\n",
       "      <td>6.0</td>\n",
       "      <td>2.0</td>\n",
       "      <td>20.0</td>\n",
       "      <td>17.0</td>\n",
       "      <td>NaN</td>\n",
       "      <td>2.0</td>\n",
       "      <td>1.0</td>\n",
       "      <td>NaN</td>\n",
       "      <td>0.0</td>\n",
       "      <td>...</td>\n",
       "      <td>NaN</td>\n",
       "      <td>NaN</td>\n",
       "      <td>NaN</td>\n",
       "      <td>NaN</td>\n",
       "      <td>NaN</td>\n",
       "      <td>NaN</td>\n",
       "      <td>NaN</td>\n",
       "      <td>NaN</td>\n",
       "      <td>NaN</td>\n",
       "      <td>0</td>\n",
       "    </tr>\n",
       "    <tr>\n",
       "      <th>2</th>\n",
       "      <td>1802.0</td>\n",
       "      <td>1.0</td>\n",
       "      <td>4.0</td>\n",
       "      <td>7.0</td>\n",
       "      <td>NaN</td>\n",
       "      <td>NaN</td>\n",
       "      <td>2.0</td>\n",
       "      <td>1.0</td>\n",
       "      <td>NaN</td>\n",
       "      <td>0.0</td>\n",
       "      <td>...</td>\n",
       "      <td>3.0</td>\n",
       "      <td>NaN</td>\n",
       "      <td>NaN</td>\n",
       "      <td>NaN</td>\n",
       "      <td>NaN</td>\n",
       "      <td>NaN</td>\n",
       "      <td>NaN</td>\n",
       "      <td>NaN</td>\n",
       "      <td>NaN</td>\n",
       "      <td>0</td>\n",
       "    </tr>\n",
       "    <tr>\n",
       "      <th>3</th>\n",
       "      <td>1802.0</td>\n",
       "      <td>3.0</td>\n",
       "      <td>19.0</td>\n",
       "      <td>NaN</td>\n",
       "      <td>NaN</td>\n",
       "      <td>NaN</td>\n",
       "      <td>2.0</td>\n",
       "      <td>1.0</td>\n",
       "      <td>NaN</td>\n",
       "      <td>0.0</td>\n",
       "      <td>...</td>\n",
       "      <td>NaN</td>\n",
       "      <td>NaN</td>\n",
       "      <td>NaN</td>\n",
       "      <td>NaN</td>\n",
       "      <td>NaN</td>\n",
       "      <td>NaN</td>\n",
       "      <td>NaN</td>\n",
       "      <td>NaN</td>\n",
       "      <td>NaN</td>\n",
       "      <td>0</td>\n",
       "    </tr>\n",
       "    <tr>\n",
       "      <th>4</th>\n",
       "      <td>1802.0</td>\n",
       "      <td>8.0</td>\n",
       "      <td>10.0</td>\n",
       "      <td>NaN</td>\n",
       "      <td>NaN</td>\n",
       "      <td>NaN</td>\n",
       "      <td>1.0</td>\n",
       "      <td>0.0</td>\n",
       "      <td>NaN</td>\n",
       "      <td>0.0</td>\n",
       "      <td>...</td>\n",
       "      <td>NaN</td>\n",
       "      <td>NaN</td>\n",
       "      <td>NaN</td>\n",
       "      <td>NaN</td>\n",
       "      <td>NaN</td>\n",
       "      <td>NaN</td>\n",
       "      <td>NaN</td>\n",
       "      <td>NaN</td>\n",
       "      <td>NaN</td>\n",
       "      <td>0</td>\n",
       "    </tr>\n",
       "    <tr>\n",
       "      <th>...</th>\n",
       "      <td>...</td>\n",
       "      <td>...</td>\n",
       "      <td>...</td>\n",
       "      <td>...</td>\n",
       "      <td>...</td>\n",
       "      <td>...</td>\n",
       "      <td>...</td>\n",
       "      <td>...</td>\n",
       "      <td>...</td>\n",
       "      <td>...</td>\n",
       "      <td>...</td>\n",
       "      <td>...</td>\n",
       "      <td>...</td>\n",
       "      <td>...</td>\n",
       "      <td>...</td>\n",
       "      <td>...</td>\n",
       "      <td>...</td>\n",
       "      <td>...</td>\n",
       "      <td>...</td>\n",
       "      <td>...</td>\n",
       "      <td>...</td>\n",
       "    </tr>\n",
       "    <tr>\n",
       "      <th>2157</th>\n",
       "      <td>2021.0</td>\n",
       "      <td>8.0</td>\n",
       "      <td>11.0</td>\n",
       "      <td>17.0</td>\n",
       "      <td>46.0</td>\n",
       "      <td>14.0</td>\n",
       "      <td>4.0</td>\n",
       "      <td>1.0</td>\n",
       "      <td>7.1</td>\n",
       "      <td>0.0</td>\n",
       "      <td>...</td>\n",
       "      <td>NaN</td>\n",
       "      <td>1.0</td>\n",
       "      <td>NaN</td>\n",
       "      <td>NaN</td>\n",
       "      <td>NaN</td>\n",
       "      <td>NaN</td>\n",
       "      <td>NaN</td>\n",
       "      <td>NaN</td>\n",
       "      <td>NaN</td>\n",
       "      <td>1</td>\n",
       "    </tr>\n",
       "    <tr>\n",
       "      <th>2158</th>\n",
       "      <td>2021.0</td>\n",
       "      <td>8.0</td>\n",
       "      <td>12.0</td>\n",
       "      <td>18.0</td>\n",
       "      <td>35.0</td>\n",
       "      <td>20.0</td>\n",
       "      <td>4.0</td>\n",
       "      <td>1.0</td>\n",
       "      <td>8.1</td>\n",
       "      <td>0.0</td>\n",
       "      <td>...</td>\n",
       "      <td>NaN</td>\n",
       "      <td>NaN</td>\n",
       "      <td>NaN</td>\n",
       "      <td>NaN</td>\n",
       "      <td>NaN</td>\n",
       "      <td>NaN</td>\n",
       "      <td>NaN</td>\n",
       "      <td>NaN</td>\n",
       "      <td>NaN</td>\n",
       "      <td>1</td>\n",
       "    </tr>\n",
       "    <tr>\n",
       "      <th>2159</th>\n",
       "      <td>2021.0</td>\n",
       "      <td>8.0</td>\n",
       "      <td>14.0</td>\n",
       "      <td>12.0</td>\n",
       "      <td>29.0</td>\n",
       "      <td>8.0</td>\n",
       "      <td>4.0</td>\n",
       "      <td>1.0</td>\n",
       "      <td>7.2</td>\n",
       "      <td>0.0</td>\n",
       "      <td>...</td>\n",
       "      <td>NaN</td>\n",
       "      <td>2248.0</td>\n",
       "      <td>329.0</td>\n",
       "      <td>3.0</td>\n",
       "      <td>12763.0</td>\n",
       "      <td>NaN</td>\n",
       "      <td>4.0</td>\n",
       "      <td>53815.0</td>\n",
       "      <td>83770.0</td>\n",
       "      <td>1</td>\n",
       "    </tr>\n",
       "    <tr>\n",
       "      <th>2160</th>\n",
       "      <td>2021.0</td>\n",
       "      <td>9.0</td>\n",
       "      <td>8.0</td>\n",
       "      <td>1.0</td>\n",
       "      <td>47.0</td>\n",
       "      <td>47.0</td>\n",
       "      <td>4.0</td>\n",
       "      <td>1.0</td>\n",
       "      <td>7.0</td>\n",
       "      <td>0.0</td>\n",
       "      <td>...</td>\n",
       "      <td>NaN</td>\n",
       "      <td>3.0</td>\n",
       "      <td>NaN</td>\n",
       "      <td>NaN</td>\n",
       "      <td>NaN</td>\n",
       "      <td>NaN</td>\n",
       "      <td>3.0</td>\n",
       "      <td>NaN</td>\n",
       "      <td>7317.0</td>\n",
       "      <td>0</td>\n",
       "    </tr>\n",
       "    <tr>\n",
       "      <th>2161</th>\n",
       "      <td>2021.0</td>\n",
       "      <td>10.0</td>\n",
       "      <td>12.0</td>\n",
       "      <td>9.0</td>\n",
       "      <td>24.0</td>\n",
       "      <td>3.0</td>\n",
       "      <td>2.0</td>\n",
       "      <td>1.0</td>\n",
       "      <td>6.4</td>\n",
       "      <td>0.0</td>\n",
       "      <td>...</td>\n",
       "      <td>NaN</td>\n",
       "      <td>NaN</td>\n",
       "      <td>NaN</td>\n",
       "      <td>NaN</td>\n",
       "      <td>NaN</td>\n",
       "      <td>NaN</td>\n",
       "      <td>1.0</td>\n",
       "      <td>NaN</td>\n",
       "      <td>NaN</td>\n",
       "      <td>0</td>\n",
       "    </tr>\n",
       "  </tbody>\n",
       "</table>\n",
       "<p>2162 rows × 27 columns</p>\n",
       "</div>"
      ],
      "text/plain": [
       "        Year    Mo    Dy    Hr    Mn   Sec  Tsunami Event Validity  \\\n",
       "0        NaN   NaN   NaN   NaN   NaN   NaN                     NaN   \n",
       "1     1800.0   6.0   2.0  20.0  17.0   NaN                     2.0   \n",
       "2     1802.0   1.0   4.0   7.0   NaN   NaN                     2.0   \n",
       "3     1802.0   3.0  19.0   NaN   NaN   NaN                     2.0   \n",
       "4     1802.0   8.0  10.0   NaN   NaN   NaN                     1.0   \n",
       "...      ...   ...   ...   ...   ...   ...                     ...   \n",
       "2157  2021.0   8.0  11.0  17.0  46.0  14.0                     4.0   \n",
       "2158  2021.0   8.0  12.0  18.0  35.0  20.0                     4.0   \n",
       "2159  2021.0   8.0  14.0  12.0  29.0   8.0                     4.0   \n",
       "2160  2021.0   9.0   8.0   1.0  47.0  47.0                     4.0   \n",
       "2161  2021.0  10.0  12.0   9.0  24.0   3.0                     2.0   \n",
       "\n",
       "      Tsunami Cause Code  Earthquake Magnitude  Deposits  ...  \\\n",
       "0                    NaN                   NaN       NaN  ...   \n",
       "1                    1.0                   NaN       0.0  ...   \n",
       "2                    1.0                   NaN       0.0  ...   \n",
       "3                    1.0                   NaN       0.0  ...   \n",
       "4                    0.0                   NaN       0.0  ...   \n",
       "...                  ...                   ...       ...  ...   \n",
       "2157                 1.0                   7.1       0.0  ...   \n",
       "2158                 1.0                   8.1       0.0  ...   \n",
       "2159                 1.0                   7.2       0.0  ...   \n",
       "2160                 1.0                   7.0       0.0  ...   \n",
       "2161                 1.0                   6.4       0.0  ...   \n",
       "\n",
       "     Tsunami Intensity Total Deaths  Total Missing  Total Missing Description  \\\n",
       "0                  NaN          NaN            NaN                        NaN   \n",
       "1                  NaN          NaN            NaN                        NaN   \n",
       "2                  3.0          NaN            NaN                        NaN   \n",
       "3                  NaN          NaN            NaN                        NaN   \n",
       "4                  NaN          NaN            NaN                        NaN   \n",
       "...                ...          ...            ...                        ...   \n",
       "2157               NaN          1.0            NaN                        NaN   \n",
       "2158               NaN          NaN            NaN                        NaN   \n",
       "2159               NaN       2248.0          329.0                        3.0   \n",
       "2160               NaN          3.0            NaN                        NaN   \n",
       "2161               NaN          NaN            NaN                        NaN   \n",
       "\n",
       "      Total Injuries  Total Damage ($Mil)  Total Damage Description  \\\n",
       "0                NaN                  NaN                       NaN   \n",
       "1                NaN                  NaN                       NaN   \n",
       "2                NaN                  NaN                       NaN   \n",
       "3                NaN                  NaN                       NaN   \n",
       "4                NaN                  NaN                       NaN   \n",
       "...              ...                  ...                       ...   \n",
       "2157             NaN                  NaN                       NaN   \n",
       "2158             NaN                  NaN                       NaN   \n",
       "2159         12763.0                  NaN                       4.0   \n",
       "2160             NaN                  NaN                       3.0   \n",
       "2161             NaN                  NaN                       1.0   \n",
       "\n",
       "      Total Houses Destroyed  Total Houses Damaged  Earthquake Mayor/Great  \n",
       "0                        NaN                   NaN                       0  \n",
       "1                        NaN                   NaN                       0  \n",
       "2                        NaN                   NaN                       0  \n",
       "3                        NaN                   NaN                       0  \n",
       "4                        NaN                   NaN                       0  \n",
       "...                      ...                   ...                     ...  \n",
       "2157                     NaN                   NaN                       1  \n",
       "2158                     NaN                   NaN                       1  \n",
       "2159                 53815.0               83770.0                       1  \n",
       "2160                     NaN                7317.0                       0  \n",
       "2161                     NaN                   NaN                       0  \n",
       "\n",
       "[2162 rows x 27 columns]"
      ]
     },
     "execution_count": 5,
     "metadata": {},
     "output_type": "execute_result"
    }
   ],
   "source": [
    "tsunamis.loc[tsunamis['Earthquake Magnitude']>7,'Earthquake Mayor/Great'] = 1\n",
    "tsunamis"
   ]
  },
  {
   "cell_type": "markdown",
   "metadata": {},
   "source": [
    "## Size, Columns & data Types"
   ]
  },
  {
   "cell_type": "code",
   "execution_count": 6,
   "metadata": {},
   "outputs": [
    {
     "name": "stdout",
     "output_type": "stream",
     "text": [
      "<class 'pandas.core.frame.DataFrame'>\n",
      "RangeIndex: 2162 entries, 0 to 2161\n",
      "Data columns (total 27 columns):\n",
      " #   Column                     Non-Null Count  Dtype  \n",
      "---  ------                     --------------  -----  \n",
      " 0   Year                       2161 non-null   float64\n",
      " 1   Mo                         2112 non-null   float64\n",
      " 2   Dy                         2054 non-null   float64\n",
      " 3   Hr                         1338 non-null   float64\n",
      " 4   Mn                         1289 non-null   float64\n",
      " 5   Sec                        941 non-null    float64\n",
      " 6   Tsunami Event Validity     2161 non-null   float64\n",
      " 7   Tsunami Cause Code         2158 non-null   float64\n",
      " 8   Earthquake Magnitude       1293 non-null   float64\n",
      " 9   Deposits                   2161 non-null   float64\n",
      " 10  Country                    2161 non-null   object \n",
      " 11  Location Name              2159 non-null   object \n",
      " 12  Latitude                   1892 non-null   float64\n",
      " 13  Longitude                  1892 non-null   float64\n",
      " 14  Maximum Water Height (m)   1109 non-null   float64\n",
      " 15  Number of Runups           2161 non-null   float64\n",
      " 16  Tsunami Magnitude (Iida)   576 non-null    float64\n",
      " 17  Tsunami Intensity          897 non-null    float64\n",
      " 18  Total Deaths               492 non-null    float64\n",
      " 19  Total Missing              11 non-null     float64\n",
      " 20  Total Missing Description  13 non-null     float64\n",
      " 21  Total Injuries             281 non-null    float64\n",
      " 22  Total Damage ($Mil)        143 non-null    float64\n",
      " 23  Total Damage Description   907 non-null    float64\n",
      " 24  Total Houses Destroyed     197 non-null    float64\n",
      " 25  Total Houses Damaged       77 non-null     float64\n",
      " 26  Earthquake Mayor/Great     2162 non-null   int64  \n",
      "dtypes: float64(24), int64(1), object(2)\n",
      "memory usage: 456.2+ KB\n"
     ]
    }
   ],
   "source": [
    "\n",
    "tsunamis.info()"
   ]
  },
  {
   "cell_type": "code",
   "execution_count": 7,
   "metadata": {},
   "outputs": [
    {
     "data": {
      "text/html": [
       "<div>\n",
       "<style scoped>\n",
       "    .dataframe tbody tr th:only-of-type {\n",
       "        vertical-align: middle;\n",
       "    }\n",
       "\n",
       "    .dataframe tbody tr th {\n",
       "        vertical-align: top;\n",
       "    }\n",
       "\n",
       "    .dataframe thead th {\n",
       "        text-align: right;\n",
       "    }\n",
       "</style>\n",
       "<table border=\"1\" class=\"dataframe\">\n",
       "  <thead>\n",
       "    <tr style=\"text-align: right;\">\n",
       "      <th></th>\n",
       "      <th>Country</th>\n",
       "      <th>Location Name</th>\n",
       "      <th>Year</th>\n",
       "      <th>Earthquake Magnitude</th>\n",
       "      <th>Total Deaths</th>\n",
       "      <th>Total Missing</th>\n",
       "      <th>Total Injuries</th>\n",
       "    </tr>\n",
       "  </thead>\n",
       "  <tbody>\n",
       "    <tr>\n",
       "      <th>0</th>\n",
       "      <td>NaN</td>\n",
       "      <td>NaN</td>\n",
       "      <td>NaN</td>\n",
       "      <td>NaN</td>\n",
       "      <td>NaN</td>\n",
       "      <td>NaN</td>\n",
       "      <td>NaN</td>\n",
       "    </tr>\n",
       "    <tr>\n",
       "      <th>1</th>\n",
       "      <td>PORTUGAL</td>\n",
       "      <td>AZORES</td>\n",
       "      <td>1800.0</td>\n",
       "      <td>NaN</td>\n",
       "      <td>NaN</td>\n",
       "      <td>NaN</td>\n",
       "      <td>NaN</td>\n",
       "    </tr>\n",
       "    <tr>\n",
       "      <th>2</th>\n",
       "      <td>CROATIA</td>\n",
       "      <td>BAKAR</td>\n",
       "      <td>1802.0</td>\n",
       "      <td>NaN</td>\n",
       "      <td>NaN</td>\n",
       "      <td>NaN</td>\n",
       "      <td>NaN</td>\n",
       "    </tr>\n",
       "    <tr>\n",
       "      <th>3</th>\n",
       "      <td>ANTIGUA AND BARBUDA</td>\n",
       "      <td>ANTIGUA ISLAND &amp; ST. CHRISTOPHER</td>\n",
       "      <td>1802.0</td>\n",
       "      <td>NaN</td>\n",
       "      <td>NaN</td>\n",
       "      <td>NaN</td>\n",
       "      <td>NaN</td>\n",
       "    </tr>\n",
       "    <tr>\n",
       "      <th>4</th>\n",
       "      <td>UK</td>\n",
       "      <td>SW ENGLAND</td>\n",
       "      <td>1802.0</td>\n",
       "      <td>NaN</td>\n",
       "      <td>NaN</td>\n",
       "      <td>NaN</td>\n",
       "      <td>NaN</td>\n",
       "    </tr>\n",
       "    <tr>\n",
       "      <th>...</th>\n",
       "      <td>...</td>\n",
       "      <td>...</td>\n",
       "      <td>...</td>\n",
       "      <td>...</td>\n",
       "      <td>...</td>\n",
       "      <td>...</td>\n",
       "      <td>...</td>\n",
       "    </tr>\n",
       "    <tr>\n",
       "      <th>2157</th>\n",
       "      <td>PHILIPPINES</td>\n",
       "      <td>MINDANAO ISLAND, PHILIPPINES</td>\n",
       "      <td>2021.0</td>\n",
       "      <td>7.1</td>\n",
       "      <td>1.0</td>\n",
       "      <td>NaN</td>\n",
       "      <td>NaN</td>\n",
       "    </tr>\n",
       "    <tr>\n",
       "      <th>2158</th>\n",
       "      <td>UK TERRITORY</td>\n",
       "      <td>SOUTHERN ATLANTIC OCEAN</td>\n",
       "      <td>2021.0</td>\n",
       "      <td>8.1</td>\n",
       "      <td>NaN</td>\n",
       "      <td>NaN</td>\n",
       "      <td>NaN</td>\n",
       "    </tr>\n",
       "    <tr>\n",
       "      <th>2159</th>\n",
       "      <td>HAITI</td>\n",
       "      <td>PORT-AU-PRINCE</td>\n",
       "      <td>2021.0</td>\n",
       "      <td>7.2</td>\n",
       "      <td>2248.0</td>\n",
       "      <td>329.0</td>\n",
       "      <td>12763.0</td>\n",
       "    </tr>\n",
       "    <tr>\n",
       "      <th>2160</th>\n",
       "      <td>MEXICO</td>\n",
       "      <td>S. MEXICO</td>\n",
       "      <td>2021.0</td>\n",
       "      <td>7.0</td>\n",
       "      <td>3.0</td>\n",
       "      <td>NaN</td>\n",
       "      <td>NaN</td>\n",
       "    </tr>\n",
       "    <tr>\n",
       "      <th>2161</th>\n",
       "      <td>GREECE</td>\n",
       "      <td>CRETE</td>\n",
       "      <td>2021.0</td>\n",
       "      <td>6.4</td>\n",
       "      <td>NaN</td>\n",
       "      <td>NaN</td>\n",
       "      <td>NaN</td>\n",
       "    </tr>\n",
       "  </tbody>\n",
       "</table>\n",
       "<p>2162 rows × 7 columns</p>\n",
       "</div>"
      ],
      "text/plain": [
       "                  Country                     Location Name    Year  \\\n",
       "0                     NaN                               NaN     NaN   \n",
       "1                PORTUGAL                            AZORES  1800.0   \n",
       "2                 CROATIA                             BAKAR  1802.0   \n",
       "3     ANTIGUA AND BARBUDA  ANTIGUA ISLAND & ST. CHRISTOPHER  1802.0   \n",
       "4                      UK                        SW ENGLAND  1802.0   \n",
       "...                   ...                               ...     ...   \n",
       "2157          PHILIPPINES      MINDANAO ISLAND, PHILIPPINES  2021.0   \n",
       "2158         UK TERRITORY           SOUTHERN ATLANTIC OCEAN  2021.0   \n",
       "2159                HAITI                    PORT-AU-PRINCE  2021.0   \n",
       "2160               MEXICO                         S. MEXICO  2021.0   \n",
       "2161               GREECE                             CRETE  2021.0   \n",
       "\n",
       "      Earthquake Magnitude  Total Deaths  Total Missing  Total Injuries  \n",
       "0                      NaN           NaN            NaN             NaN  \n",
       "1                      NaN           NaN            NaN             NaN  \n",
       "2                      NaN           NaN            NaN             NaN  \n",
       "3                      NaN           NaN            NaN             NaN  \n",
       "4                      NaN           NaN            NaN             NaN  \n",
       "...                    ...           ...            ...             ...  \n",
       "2157                   7.1           1.0            NaN             NaN  \n",
       "2158                   8.1           NaN            NaN             NaN  \n",
       "2159                   7.2        2248.0          329.0         12763.0  \n",
       "2160                   7.0           3.0            NaN             NaN  \n",
       "2161                   6.4           NaN            NaN             NaN  \n",
       "\n",
       "[2162 rows x 7 columns]"
      ]
     },
     "execution_count": 7,
     "metadata": {},
     "output_type": "execute_result"
    }
   ],
   "source": [
    "tsunamis.loc[:20000,[ 'Country','Location Name','Year', 'Earthquake Magnitude','Total Deaths','Total Missing','Total Injuries']]"
   ]
  },
  {
   "cell_type": "markdown",
   "metadata": {},
   "source": [
    "## Total Damage"
   ]
  },
  {
   "cell_type": "code",
   "execution_count": 8,
   "metadata": {},
   "outputs": [
    {
     "data": {
      "text/plain": [
       "count       143.000000\n",
       "mean       4197.016455\n",
       "std       21700.862491\n",
       "min           0.003000\n",
       "25%           2.412500\n",
       "50%          39.000000\n",
       "75%         520.000000\n",
       "max      220136.600000\n",
       "Name: Total Damage ($Mil), dtype: float64"
      ]
     },
     "execution_count": 8,
     "metadata": {},
     "output_type": "execute_result"
    }
   ],
   "source": [
    "tsunamis['Total Damage ($Mil)'].describe()"
   ]
  },
  {
   "cell_type": "markdown",
   "metadata": {},
   "source": [
    "##  Tsunamis by Year & Month"
   ]
  },
  {
   "cell_type": "markdown",
   "metadata": {},
   "source": [
    "*It seems there are more Tsunamis happening recently and they mostly happen during the winter:*"
   ]
  },
  {
   "cell_type": "code",
   "execution_count": 9,
   "metadata": {},
   "outputs": [
    {
     "data": {
      "text/plain": [
       "<AxesSubplot:xlabel='Year', ylabel='Count'>"
      ]
     },
     "execution_count": 9,
     "metadata": {},
     "output_type": "execute_result"
    },
    {
     "data": {
      "image/png": "[encoded data removed]",
      "text/plain": [
       "<Figure size 432x288 with 1 Axes>"
      ]
     },
     "metadata": {
      "needs_background": "light"
     },
     "output_type": "display_data"
    }
   ],
   "source": [
    "sns.histplot(data=tsunamis, x=\"Year\",kde=True)\n"
   ]
  },
  {
   "cell_type": "markdown",
   "metadata": {},
   "source": [
    "So far there have been 294 Tsunamis this century...;("
   ]
  },
  {
   "cell_type": "code",
   "execution_count": 10,
   "metadata": {},
   "outputs": [
    {
     "data": {
      "text/plain": [
       "array([[<AxesSubplot:title={'center':'Year'}>]], dtype=object)"
      ]
     },
     "execution_count": 10,
     "metadata": {},
     "output_type": "execute_result"
    },
    {
     "data": {
      "image/png": "[encoded data removed]",
      "text/plain": [
       "<Figure size 432x288 with 1 Axes>"
      ]
     },
     "metadata": {
      "needs_background": "light"
     },
     "output_type": "display_data"
    }
   ],
   "source": [
    "this_century = (tsunamis['Year']>2000)\n",
    "temp3=tsunamis[this_century]\n",
    "temp3[['Year','Country']].hist()"
   ]
  },
  {
   "cell_type": "code",
   "execution_count": 11,
   "metadata": {},
   "outputs": [
    {
     "data": {
      "text/plain": [
       "Year  \n",
       "2021.0    13\n",
       "2020.0    14\n",
       "2019.0     8\n",
       "2018.0    20\n",
       "2017.0    20\n",
       "2016.0    15\n",
       "2015.0    17\n",
       "2014.0    18\n",
       "2013.0    13\n",
       "2012.0    15\n",
       "2011.0    17\n",
       "2010.0    18\n",
       "2009.0    16\n",
       "2008.0    12\n",
       "2007.0    20\n",
       "2006.0    13\n",
       "2005.0     8\n",
       "2004.0    11\n",
       "2003.0    12\n",
       "2002.0    10\n",
       "2001.0     4\n",
       "dtype: int64"
      ]
     },
     "execution_count": 11,
     "metadata": {},
     "output_type": "execute_result"
    }
   ],
   "source": [
    "\n",
    "temp3[['Year']].value_counts().sort_index(ascending = False)"
   ]
  },
  {
   "cell_type": "code",
   "execution_count": 12,
   "metadata": {},
   "outputs": [
    {
     "data": {
      "text/plain": [
       "<AxesSubplot:>"
      ]
     },
     "execution_count": 12,
     "metadata": {},
     "output_type": "execute_result"
    },
    {
     "data": {
      "image/png": "[encoded data removed]",
      "text/plain": [
       "<Figure size 432x288 with 1 Axes>"
      ]
     },
     "metadata": {
      "needs_background": "light"
     },
     "output_type": "display_data"
    }
   ],
   "source": [
    "tsunamis['Mo'].hist()\n"
   ]
  },
  {
   "cell_type": "markdown",
   "metadata": {},
   "source": [
    "## Total Deaths ##"
   ]
  },
  {
   "cell_type": "markdown",
   "metadata": {},
   "source": [
    "*For practical reasons I wil concentrate in data with less than 10,000 deaths which is where the mayority of data falls into. This also exclude NaN data*"
   ]
  },
  {
   "cell_type": "code",
   "execution_count": 13,
   "metadata": {},
   "outputs": [],
   "source": [
    "less_than_10K_deaths = (tsunamis['Total Deaths']<10000)\n",
    "temp=tsunamis[less_than_10K_deaths]"
   ]
  },
  {
   "cell_type": "code",
   "execution_count": 14,
   "metadata": {},
   "outputs": [
    {
     "data": {
      "text/plain": [
       "<AxesSubplot:xlabel='Year'>"
      ]
     },
     "execution_count": 14,
     "metadata": {},
     "output_type": "execute_result"
    },
    {
     "data": {
      "image/png": "[encoded data removed]",
      "text/plain": [
       "<Figure size 432x288 with 1 Axes>"
      ]
     },
     "metadata": {
      "needs_background": "light"
     },
     "output_type": "display_data"
    }
   ],
   "source": [
    "\n",
    "Deaths_by_Year=temp.groupby(['Year']).agg({'Total Deaths':['sum']})\n",
    "Deaths_by_Year.plot()"
   ]
  },
  {
   "cell_type": "markdown",
   "metadata": {},
   "source": [
    "**Categorization of tsunamis depending on Total Deaths** "
   ]
  },
  {
   "cell_type": "markdown",
   "metadata": {},
   "source": [
    "I have categorized Tsunamis depending on the Total Deaths, in the following ranges: \n",
    "* *Mild* = les that 5 deaths\n",
    "* *Medium* = between 5 and 100 deaths\n",
    "* *Severe* = above 100 deaths"
   ]
  },
  {
   "cell_type": "code",
   "execution_count": 15,
   "metadata": {},
   "outputs": [
    {
     "data": {
      "text/plain": [
       "True     1670\n",
       "False     492\n",
       "Name: Total Deaths, dtype: int64"
      ]
     },
     "execution_count": 15,
     "metadata": {},
     "output_type": "execute_result"
    }
   ],
   "source": [
    "tsunamis['Total Deaths'].isna().value_counts()"
   ]
  },
  {
   "cell_type": "code",
   "execution_count": 16,
   "metadata": {
    "scrolled": true
   },
   "outputs": [
    {
     "data": {
      "text/html": [
       "<div>\n",
       "<style scoped>\n",
       "    .dataframe tbody tr th:only-of-type {\n",
       "        vertical-align: middle;\n",
       "    }\n",
       "\n",
       "    .dataframe tbody tr th {\n",
       "        vertical-align: top;\n",
       "    }\n",
       "\n",
       "    .dataframe thead th {\n",
       "        text-align: right;\n",
       "    }\n",
       "</style>\n",
       "<table border=\"1\" class=\"dataframe\">\n",
       "  <thead>\n",
       "    <tr style=\"text-align: right;\">\n",
       "      <th></th>\n",
       "      <th>Year</th>\n",
       "      <th>Mo</th>\n",
       "      <th>Dy</th>\n",
       "      <th>Hr</th>\n",
       "      <th>Mn</th>\n",
       "      <th>Sec</th>\n",
       "      <th>Tsunami Event Validity</th>\n",
       "      <th>Tsunami Cause Code</th>\n",
       "      <th>Earthquake Magnitude</th>\n",
       "      <th>Deposits</th>\n",
       "      <th>...</th>\n",
       "      <th>Tsunami Intensity</th>\n",
       "      <th>Total Deaths</th>\n",
       "      <th>Total Missing</th>\n",
       "      <th>Total Missing Description</th>\n",
       "      <th>Total Injuries</th>\n",
       "      <th>Total Damage ($Mil)</th>\n",
       "      <th>Total Damage Description</th>\n",
       "      <th>Total Houses Destroyed</th>\n",
       "      <th>Total Houses Damaged</th>\n",
       "      <th>Earthquake Mayor/Great</th>\n",
       "    </tr>\n",
       "  </thead>\n",
       "  <tbody>\n",
       "    <tr>\n",
       "      <th>12</th>\n",
       "      <td>1804.0</td>\n",
       "      <td>7.0</td>\n",
       "      <td>10.0</td>\n",
       "      <td>13.0</td>\n",
       "      <td>NaN</td>\n",
       "      <td>NaN</td>\n",
       "      <td>4.0</td>\n",
       "      <td>1.0</td>\n",
       "      <td>7.3</td>\n",
       "      <td>0.0</td>\n",
       "      <td>...</td>\n",
       "      <td>1.0</td>\n",
       "      <td>450.0</td>\n",
       "      <td>NaN</td>\n",
       "      <td>NaN</td>\n",
       "      <td>NaN</td>\n",
       "      <td>NaN</td>\n",
       "      <td>4.0</td>\n",
       "      <td>10810.0</td>\n",
       "      <td>300.0</td>\n",
       "      <td>1</td>\n",
       "    </tr>\n",
       "    <tr>\n",
       "      <th>38</th>\n",
       "      <td>1812.0</td>\n",
       "      <td>3.0</td>\n",
       "      <td>26.0</td>\n",
       "      <td>20.0</td>\n",
       "      <td>7.0</td>\n",
       "      <td>NaN</td>\n",
       "      <td>2.0</td>\n",
       "      <td>1.0</td>\n",
       "      <td>7.7</td>\n",
       "      <td>0.0</td>\n",
       "      <td>...</td>\n",
       "      <td>NaN</td>\n",
       "      <td>26000.0</td>\n",
       "      <td>NaN</td>\n",
       "      <td>NaN</td>\n",
       "      <td>NaN</td>\n",
       "      <td>NaN</td>\n",
       "      <td>3.0</td>\n",
       "      <td>NaN</td>\n",
       "      <td>NaN</td>\n",
       "      <td>1</td>\n",
       "    </tr>\n",
       "    <tr>\n",
       "      <th>46</th>\n",
       "      <td>1815.0</td>\n",
       "      <td>4.0</td>\n",
       "      <td>10.0</td>\n",
       "      <td>NaN</td>\n",
       "      <td>NaN</td>\n",
       "      <td>NaN</td>\n",
       "      <td>4.0</td>\n",
       "      <td>6.0</td>\n",
       "      <td>NaN</td>\n",
       "      <td>1.0</td>\n",
       "      <td>...</td>\n",
       "      <td>1.5</td>\n",
       "      <td>60000.0</td>\n",
       "      <td>NaN</td>\n",
       "      <td>NaN</td>\n",
       "      <td>NaN</td>\n",
       "      <td>NaN</td>\n",
       "      <td>4.0</td>\n",
       "      <td>NaN</td>\n",
       "      <td>NaN</td>\n",
       "      <td>0</td>\n",
       "    </tr>\n",
       "    <tr>\n",
       "      <th>48</th>\n",
       "      <td>1815.0</td>\n",
       "      <td>11.0</td>\n",
       "      <td>22.0</td>\n",
       "      <td>NaN</td>\n",
       "      <td>NaN</td>\n",
       "      <td>NaN</td>\n",
       "      <td>3.0</td>\n",
       "      <td>3.0</td>\n",
       "      <td>7.0</td>\n",
       "      <td>0.0</td>\n",
       "      <td>...</td>\n",
       "      <td>1.5</td>\n",
       "      <td>11453.0</td>\n",
       "      <td>NaN</td>\n",
       "      <td>NaN</td>\n",
       "      <td>NaN</td>\n",
       "      <td>NaN</td>\n",
       "      <td>NaN</td>\n",
       "      <td>NaN</td>\n",
       "      <td>NaN</td>\n",
       "      <td>0</td>\n",
       "    </tr>\n",
       "    <tr>\n",
       "      <th>64</th>\n",
       "      <td>1819.0</td>\n",
       "      <td>6.0</td>\n",
       "      <td>16.0</td>\n",
       "      <td>NaN</td>\n",
       "      <td>NaN</td>\n",
       "      <td>NaN</td>\n",
       "      <td>3.0</td>\n",
       "      <td>1.0</td>\n",
       "      <td>7.7</td>\n",
       "      <td>0.0</td>\n",
       "      <td>...</td>\n",
       "      <td>NaN</td>\n",
       "      <td>1543.0</td>\n",
       "      <td>NaN</td>\n",
       "      <td>NaN</td>\n",
       "      <td>NaN</td>\n",
       "      <td>NaN</td>\n",
       "      <td>4.0</td>\n",
       "      <td>1547.0</td>\n",
       "      <td>NaN</td>\n",
       "      <td>1</td>\n",
       "    </tr>\n",
       "    <tr>\n",
       "      <th>...</th>\n",
       "      <td>...</td>\n",
       "      <td>...</td>\n",
       "      <td>...</td>\n",
       "      <td>...</td>\n",
       "      <td>...</td>\n",
       "      <td>...</td>\n",
       "      <td>...</td>\n",
       "      <td>...</td>\n",
       "      <td>...</td>\n",
       "      <td>...</td>\n",
       "      <td>...</td>\n",
       "      <td>...</td>\n",
       "      <td>...</td>\n",
       "      <td>...</td>\n",
       "      <td>...</td>\n",
       "      <td>...</td>\n",
       "      <td>...</td>\n",
       "      <td>...</td>\n",
       "      <td>...</td>\n",
       "      <td>...</td>\n",
       "      <td>...</td>\n",
       "    </tr>\n",
       "    <tr>\n",
       "      <th>2116</th>\n",
       "      <td>2018.0</td>\n",
       "      <td>8.0</td>\n",
       "      <td>5.0</td>\n",
       "      <td>11.0</td>\n",
       "      <td>47.0</td>\n",
       "      <td>3.0</td>\n",
       "      <td>4.0</td>\n",
       "      <td>1.0</td>\n",
       "      <td>6.9</td>\n",
       "      <td>0.0</td>\n",
       "      <td>...</td>\n",
       "      <td>NaN</td>\n",
       "      <td>560.0</td>\n",
       "      <td>NaN</td>\n",
       "      <td>NaN</td>\n",
       "      <td>7733.0</td>\n",
       "      <td>509.0</td>\n",
       "      <td>4.0</td>\n",
       "      <td>NaN</td>\n",
       "      <td>83392.0</td>\n",
       "      <td>0</td>\n",
       "    </tr>\n",
       "    <tr>\n",
       "      <th>2121</th>\n",
       "      <td>2018.0</td>\n",
       "      <td>9.0</td>\n",
       "      <td>28.0</td>\n",
       "      <td>10.0</td>\n",
       "      <td>2.0</td>\n",
       "      <td>25.0</td>\n",
       "      <td>4.0</td>\n",
       "      <td>3.0</td>\n",
       "      <td>7.5</td>\n",
       "      <td>1.0</td>\n",
       "      <td>...</td>\n",
       "      <td>NaN</td>\n",
       "      <td>4340.0</td>\n",
       "      <td>667.0</td>\n",
       "      <td>3.0</td>\n",
       "      <td>10679.0</td>\n",
       "      <td>1500.0</td>\n",
       "      <td>4.0</td>\n",
       "      <td>3673.0</td>\n",
       "      <td>39191.0</td>\n",
       "      <td>1</td>\n",
       "    </tr>\n",
       "    <tr>\n",
       "      <th>2126</th>\n",
       "      <td>2018.0</td>\n",
       "      <td>12.0</td>\n",
       "      <td>22.0</td>\n",
       "      <td>13.0</td>\n",
       "      <td>55.0</td>\n",
       "      <td>NaN</td>\n",
       "      <td>4.0</td>\n",
       "      <td>7.0</td>\n",
       "      <td>NaN</td>\n",
       "      <td>2.0</td>\n",
       "      <td>...</td>\n",
       "      <td>NaN</td>\n",
       "      <td>437.0</td>\n",
       "      <td>10.0</td>\n",
       "      <td>1.0</td>\n",
       "      <td>31943.0</td>\n",
       "      <td>250.0</td>\n",
       "      <td>4.0</td>\n",
       "      <td>NaN</td>\n",
       "      <td>2844.0</td>\n",
       "      <td>0</td>\n",
       "    </tr>\n",
       "    <tr>\n",
       "      <th>2146</th>\n",
       "      <td>2020.0</td>\n",
       "      <td>10.0</td>\n",
       "      <td>30.0</td>\n",
       "      <td>11.0</td>\n",
       "      <td>51.0</td>\n",
       "      <td>27.0</td>\n",
       "      <td>4.0</td>\n",
       "      <td>1.0</td>\n",
       "      <td>7.0</td>\n",
       "      <td>0.0</td>\n",
       "      <td>...</td>\n",
       "      <td>NaN</td>\n",
       "      <td>118.0</td>\n",
       "      <td>NaN</td>\n",
       "      <td>NaN</td>\n",
       "      <td>1054.0</td>\n",
       "      <td>400.0</td>\n",
       "      <td>4.0</td>\n",
       "      <td>NaN</td>\n",
       "      <td>NaN</td>\n",
       "      <td>0</td>\n",
       "    </tr>\n",
       "    <tr>\n",
       "      <th>2159</th>\n",
       "      <td>2021.0</td>\n",
       "      <td>8.0</td>\n",
       "      <td>14.0</td>\n",
       "      <td>12.0</td>\n",
       "      <td>29.0</td>\n",
       "      <td>8.0</td>\n",
       "      <td>4.0</td>\n",
       "      <td>1.0</td>\n",
       "      <td>7.2</td>\n",
       "      <td>0.0</td>\n",
       "      <td>...</td>\n",
       "      <td>NaN</td>\n",
       "      <td>2248.0</td>\n",
       "      <td>329.0</td>\n",
       "      <td>3.0</td>\n",
       "      <td>12763.0</td>\n",
       "      <td>NaN</td>\n",
       "      <td>4.0</td>\n",
       "      <td>53815.0</td>\n",
       "      <td>83770.0</td>\n",
       "      <td>1</td>\n",
       "    </tr>\n",
       "  </tbody>\n",
       "</table>\n",
       "<p>158 rows × 27 columns</p>\n",
       "</div>"
      ],
      "text/plain": [
       "        Year    Mo    Dy    Hr    Mn   Sec  Tsunami Event Validity  \\\n",
       "12    1804.0   7.0  10.0  13.0   NaN   NaN                     4.0   \n",
       "38    1812.0   3.0  26.0  20.0   7.0   NaN                     2.0   \n",
       "46    1815.0   4.0  10.0   NaN   NaN   NaN                     4.0   \n",
       "48    1815.0  11.0  22.0   NaN   NaN   NaN                     3.0   \n",
       "64    1819.0   6.0  16.0   NaN   NaN   NaN                     3.0   \n",
       "...      ...   ...   ...   ...   ...   ...                     ...   \n",
       "2116  2018.0   8.0   5.0  11.0  47.0   3.0                     4.0   \n",
       "2121  2018.0   9.0  28.0  10.0   2.0  25.0                     4.0   \n",
       "2126  2018.0  12.0  22.0  13.0  55.0   NaN                     4.0   \n",
       "2146  2020.0  10.0  30.0  11.0  51.0  27.0                     4.0   \n",
       "2159  2021.0   8.0  14.0  12.0  29.0   8.0                     4.0   \n",
       "\n",
       "      Tsunami Cause Code  Earthquake Magnitude  Deposits  ...  \\\n",
       "12                   1.0                   7.3       0.0  ...   \n",
       "38                   1.0                   7.7       0.0  ...   \n",
       "46                   6.0                   NaN       1.0  ...   \n",
       "48                   3.0                   7.0       0.0  ...   \n",
       "64                   1.0                   7.7       0.0  ...   \n",
       "...                  ...                   ...       ...  ...   \n",
       "2116                 1.0                   6.9       0.0  ...   \n",
       "2121                 3.0                   7.5       1.0  ...   \n",
       "2126                 7.0                   NaN       2.0  ...   \n",
       "2146                 1.0                   7.0       0.0  ...   \n",
       "2159                 1.0                   7.2       0.0  ...   \n",
       "\n",
       "     Tsunami Intensity Total Deaths  Total Missing  Total Missing Description  \\\n",
       "12                 1.0        450.0            NaN                        NaN   \n",
       "38                 NaN      26000.0            NaN                        NaN   \n",
       "46                 1.5      60000.0            NaN                        NaN   \n",
       "48                 1.5      11453.0            NaN                        NaN   \n",
       "64                 NaN       1543.0            NaN                        NaN   \n",
       "...                ...          ...            ...                        ...   \n",
       "2116               NaN        560.0            NaN                        NaN   \n",
       "2121               NaN       4340.0          667.0                        3.0   \n",
       "2126               NaN        437.0           10.0                        1.0   \n",
       "2146               NaN        118.0            NaN                        NaN   \n",
       "2159               NaN       2248.0          329.0                        3.0   \n",
       "\n",
       "      Total Injuries  Total Damage ($Mil)  Total Damage Description  \\\n",
       "12               NaN                  NaN                       4.0   \n",
       "38               NaN                  NaN                       3.0   \n",
       "46               NaN                  NaN                       4.0   \n",
       "48               NaN                  NaN                       NaN   \n",
       "64               NaN                  NaN                       4.0   \n",
       "...              ...                  ...                       ...   \n",
       "2116          7733.0                509.0                       4.0   \n",
       "2121         10679.0               1500.0                       4.0   \n",
       "2126         31943.0                250.0                       4.0   \n",
       "2146          1054.0                400.0                       4.0   \n",
       "2159         12763.0                  NaN                       4.0   \n",
       "\n",
       "      Total Houses Destroyed  Total Houses Damaged  Earthquake Mayor/Great  \n",
       "12                   10810.0                 300.0                       1  \n",
       "38                       NaN                   NaN                       1  \n",
       "46                       NaN                   NaN                       0  \n",
       "48                       NaN                   NaN                       0  \n",
       "64                    1547.0                   NaN                       1  \n",
       "...                      ...                   ...                     ...  \n",
       "2116                     NaN               83392.0                       0  \n",
       "2121                  3673.0               39191.0                       1  \n",
       "2126                     NaN                2844.0                       0  \n",
       "2146                     NaN                   NaN                       0  \n",
       "2159                 53815.0               83770.0                       1  \n",
       "\n",
       "[158 rows x 27 columns]"
      ]
     },
     "execution_count": 16,
     "metadata": {},
     "output_type": "execute_result"
    }
   ],
   "source": [
    "severe = (tsunamis['Total Deaths']>100) \n",
    "medium = (tsunamis['Total Deaths'].between(5,100))\n",
    "mild = (tsunamis['Total Deaths']<5)\n",
    "tsunamis[severe]"
   ]
  },
  {
   "cell_type": "code",
   "execution_count": 17,
   "metadata": {},
   "outputs": [
    {
     "data": {
      "text/plain": [
       "False    2004\n",
       "True      158\n",
       "Name: Total Deaths, dtype: int64"
      ]
     },
     "execution_count": 17,
     "metadata": {},
     "output_type": "execute_result"
    }
   ],
   "source": [
    "severe.value_counts()\n",
    "\n"
   ]
  },
  {
   "cell_type": "code",
   "execution_count": 18,
   "metadata": {},
   "outputs": [
    {
     "data": {
      "text/plain": [
       "False    1958\n",
       "True      204\n",
       "Name: Total Deaths, dtype: int64"
      ]
     },
     "execution_count": 18,
     "metadata": {},
     "output_type": "execute_result"
    }
   ],
   "source": [
    "medium.value_counts()"
   ]
  },
  {
   "cell_type": "code",
   "execution_count": 19,
   "metadata": {},
   "outputs": [
    {
     "data": {
      "text/plain": [
       "False    2032\n",
       "True      130\n",
       "Name: Total Deaths, dtype: int64"
      ]
     },
     "execution_count": 19,
     "metadata": {},
     "output_type": "execute_result"
    }
   ],
   "source": [
    "\n",
    "mild.value_counts()"
   ]
  },
  {
   "cell_type": "code",
   "execution_count": 20,
   "metadata": {},
   "outputs": [
    {
     "data": {
      "text/plain": [
       "Text(0.5, 1.0, 'Tsunamis Severity')"
      ]
     },
     "execution_count": 20,
     "metadata": {},
     "output_type": "execute_result"
    },
    {
     "data": {
      "image/png": "[encoded data removed]",
      "text/plain": [
       "<Figure size 432x288 with 1 Axes>"
      ]
     },
     "metadata": {},
     "output_type": "display_data"
    }
   ],
   "source": [
    "Range=['severe','medium','mild']\n",
    "Range_values=[158,204,130]\n",
    "fig, ax = plt.subplots()\n",
    "ax.pie(Range_values,labels=Range, autopct='%1.0f%%')\n",
    "ax.set_title('Tsunamis Severity')\n"
   ]
  },
  {
   "cell_type": "markdown",
   "metadata": {},
   "source": [
    "## Tsunami Intensity ##"
   ]
  },
  {
   "cell_type": "markdown",
   "metadata": {},
   "source": [
    "Tsunami Intensity is The measure of strength, force, or energy. \n",
    "In this data, Intensity (I) is calculated according to the formula:\n",
    "\n",
    "I= 1/2+ Log2 Hav where Hav is the water hight. For example:\n",
    "\n",
    "* I = 4 for 11 meters\n",
    "* I = 5 for 22.5 meters\n",
    "\n",
    "The new scales Papadopoulus and Imamura includes 12 categories according to the effects on humans, on nature and objects, including vessels of variable size, and on buildings and other engineered constructions:"
   ]
  },
  {
   "cell_type": "code",
   "execution_count": 21,
   "metadata": {},
   "outputs": [
    {
     "data": {
      "text/plain": [
       "<AxesSubplot:>"
      ]
     },
     "execution_count": 21,
     "metadata": {},
     "output_type": "execute_result"
    },
    {
     "data": {
      "image/png": "[encoded data removed]",
      "text/plain": [
       "<Figure size 432x288 with 1 Axes>"
      ]
     },
     "metadata": {
      "needs_background": "light"
     },
     "output_type": "display_data"
    }
   ],
   "source": [
    "\n",
    "Tsunami_Intensity = tsunamis[~tsunamis['Tsunami Intensity'].isnull()]\n",
    "Tsunami_Intensity['Tsunami Intensity'].describe()\n",
    "tsunamis['Tsunami Intensity'].hist()"
   ]
  },
  {
   "cell_type": "markdown",
   "metadata": {},
   "source": [
    "## Maximum Water High (in meters) ##"
   ]
  },
  {
   "cell_type": "markdown",
   "metadata": {},
   "source": [
    "The mayority of Tsunamis have a maximum water high between 0 and 10 meters, however the highest water level ever recorded was 500 m in Indonesia"
   ]
  },
  {
   "cell_type": "code",
   "execution_count": 22,
   "metadata": {},
   "outputs": [],
   "source": [
    "Water_High_below10 = (tsunamis['Maximum Water Height (m)']<10)\n",
    "temp=tsunamis[Water_High_below10]"
   ]
  },
  {
   "cell_type": "code",
   "execution_count": 23,
   "metadata": {},
   "outputs": [
    {
     "data": {
      "text/plain": [
       "<AxesSubplot:>"
      ]
     },
     "execution_count": 23,
     "metadata": {},
     "output_type": "execute_result"
    },
    {
     "data": {
      "image/png": "[encoded data removed]",
      "text/plain": [
       "<Figure size 432x288 with 1 Axes>"
      ]
     },
     "metadata": {
      "needs_background": "light"
     },
     "output_type": "display_data"
    }
   ],
   "source": [
    "temp['Maximum Water Height (m)'].hist()"
   ]
  },
  {
   "cell_type": "code",
   "execution_count": 24,
   "metadata": {},
   "outputs": [
    {
     "data": {
      "text/html": [
       "<div>\n",
       "<style scoped>\n",
       "    .dataframe tbody tr th:only-of-type {\n",
       "        vertical-align: middle;\n",
       "    }\n",
       "\n",
       "    .dataframe tbody tr th {\n",
       "        vertical-align: top;\n",
       "    }\n",
       "\n",
       "    .dataframe thead th {\n",
       "        text-align: right;\n",
       "    }\n",
       "</style>\n",
       "<table border=\"1\" class=\"dataframe\">\n",
       "  <thead>\n",
       "    <tr style=\"text-align: right;\">\n",
       "      <th></th>\n",
       "      <th>Country</th>\n",
       "      <th>Year</th>\n",
       "      <th>Maximum Water Height (m)</th>\n",
       "    </tr>\n",
       "  </thead>\n",
       "  <tbody>\n",
       "    <tr>\n",
       "      <th>1132</th>\n",
       "      <td>INDONESIA</td>\n",
       "      <td>1930.0</td>\n",
       "      <td>500.0</td>\n",
       "    </tr>\n",
       "    <tr>\n",
       "      <th>1410</th>\n",
       "      <td>USA</td>\n",
       "      <td>1958.0</td>\n",
       "      <td>524.6</td>\n",
       "    </tr>\n",
       "    <tr>\n",
       "      <th>1467</th>\n",
       "      <td>ITALY</td>\n",
       "      <td>1963.0</td>\n",
       "      <td>235.0</td>\n",
       "    </tr>\n",
       "    <tr>\n",
       "      <th>1663</th>\n",
       "      <td>USA</td>\n",
       "      <td>1980.0</td>\n",
       "      <td>250.0</td>\n",
       "    </tr>\n",
       "  </tbody>\n",
       "</table>\n",
       "</div>"
      ],
      "text/plain": [
       "        Country    Year  Maximum Water Height (m)\n",
       "1132  INDONESIA  1930.0                     500.0\n",
       "1410        USA  1958.0                     524.6\n",
       "1467      ITALY  1963.0                     235.0\n",
       "1663        USA  1980.0                     250.0"
      ]
     },
     "execution_count": 24,
     "metadata": {},
     "output_type": "execute_result"
    }
   ],
   "source": [
    "Water_High_above200 = (tsunamis['Maximum Water Height (m)']>200)\n",
    "temp=tsunamis[Water_High_above200]\n",
    "temp[['Country', 'Year', 'Maximum Water Height (m)']]"
   ]
  },
  {
   "cell_type": "markdown",
   "metadata": {},
   "source": [
    "## Earthquake Magnitud ##"
   ]
  },
  {
   "cell_type": "markdown",
   "metadata": {},
   "source": [
    "The most destructive tsunamis are generated from large, shallow earthquakes with an epicenter or fault line near or on the ocean floor. Usually, it takes an earthquake with a Richter magnitude exceeding 7.5 to produce a destructive tsunami.\n",
    "For this example I have grouped Earthquake Maginute."
   ]
  },
  {
   "cell_type": "code",
   "execution_count": 25,
   "metadata": {},
   "outputs": [
    {
     "data": {
      "text/plain": [
       "<AxesSubplot:xlabel='Earthquake Magnitude', ylabel='Count'>"
      ]
     },
     "execution_count": 25,
     "metadata": {},
     "output_type": "execute_result"
    },
    {
     "data": {
      "image/png": "[encoded data removed]",
      "text/plain": [
       "<Figure size 432x288 with 1 Axes>"
      ]
     },
     "metadata": {
      "needs_background": "light"
     },
     "output_type": "display_data"
    }
   ],
   "source": [
    "sns.histplot(data=tsunamis, x=\"Earthquake Magnitude\",kde=True)"
   ]
  },
  {
   "cell_type": "code",
   "execution_count": 26,
   "metadata": {},
   "outputs": [
    {
     "data": {
      "text/html": [
       "<div>\n",
       "<style scoped>\n",
       "    .dataframe tbody tr th:only-of-type {\n",
       "        vertical-align: middle;\n",
       "    }\n",
       "\n",
       "    .dataframe tbody tr th {\n",
       "        vertical-align: top;\n",
       "    }\n",
       "\n",
       "    .dataframe thead th {\n",
       "        text-align: right;\n",
       "    }\n",
       "</style>\n",
       "<table border=\"1\" class=\"dataframe\">\n",
       "  <thead>\n",
       "    <tr style=\"text-align: right;\">\n",
       "      <th></th>\n",
       "      <th>Maximum Water Height (m)</th>\n",
       "    </tr>\n",
       "  </thead>\n",
       "  <tbody>\n",
       "    <tr>\n",
       "      <th>mean</th>\n",
       "      <td>41.74</td>\n",
       "    </tr>\n",
       "  </tbody>\n",
       "</table>\n",
       "</div>"
      ],
      "text/plain": [
       "      Maximum Water Height (m)\n",
       "mean                     41.74"
      ]
     },
     "execution_count": 26,
     "metadata": {},
     "output_type": "execute_result"
    }
   ],
   "source": [
    "Magnitud_below5 = tsunamis[(tsunamis['Earthquake Magnitude']<4.9)].agg({'Maximum Water Height (m)':['mean']}) \n",
    "Magnitud_5to6 = tsunamis[(tsunamis['Earthquake Magnitude'].between(5,5.9))].agg({'Maximum Water Height (m)':['mean']})\n",
    "Magnitud_6to7 = tsunamis[(tsunamis['Earthquake Magnitude'].between(6,6.9))].agg({'Maximum Water Height (m)':['mean']})\n",
    "Magnitud_7to8 = tsunamis[(tsunamis['Earthquake Magnitude'].between(7,7.9))].agg({'Maximum Water Height (m)':['mean']})\n",
    "Magnitud_8to9 = tsunamis[(tsunamis['Earthquake Magnitude'].between(8,8.9))].agg({'Maximum Water Height (m)':['mean']})\n",
    "Magnitud_above9 = tsunamis[(tsunamis['Earthquake Magnitude']>9)].agg({'Maximum Water Height (m)':['mean']})\n",
    "Magnitud_above9\n"
   ]
  },
  {
   "cell_type": "code",
   "execution_count": 27,
   "metadata": {},
   "outputs": [],
   "source": [
    "y=[1.67,0.9005,1.332688,3.683524,8.138469,41.74]\n",
    "x=['Magnitud_below5','Magnitud_5to6','Magnitud_6to7','Magnitud_7to8','Magnitud_8to9','Magnitud_above9']\n"
   ]
  },
  {
   "cell_type": "code",
   "execution_count": 28,
   "metadata": {},
   "outputs": [
    {
     "data": {
      "image/png": "[encoded data removed]",
      "text/plain": [
       "<Figure size 576x216 with 1 Axes>"
      ]
     },
     "metadata": {
      "needs_background": "light"
     },
     "output_type": "display_data"
    }
   ],
   "source": [
    "fig = plt.figure(figsize=(8, 3))\n",
    "ax = fig.add_axes([0,0,1,1])\n",
    "ax.bar(x,y)\n",
    "plt.show()\n"
   ]
  },
  {
   "cell_type": "code",
   "execution_count": 29,
   "metadata": {},
   "outputs": [
    {
     "data": {
      "text/plain": [
       "array([[<AxesSubplot:title={'center':\"('Total Deaths', 'sum')\"}>]],\n",
       "      dtype=object)"
      ]
     },
     "execution_count": 29,
     "metadata": {},
     "output_type": "execute_result"
    },
    {
     "data": {
      "image/png": "[encoded data removed]",
      "text/plain": [
       "<Figure size 432x288 with 1 Axes>"
      ]
     },
     "metadata": {
      "needs_background": "light"
     },
     "output_type": "display_data"
    }
   ],
   "source": [
    "Magnitud=tsunamis.groupby(['Earthquake Magnitude']).agg({'Total Deaths':['sum']})\n",
    "Magnitud.hist()"
   ]
  },
  {
   "cell_type": "markdown",
   "metadata": {},
   "source": [
    "## Tsunamis by Country ##"
   ]
  },
  {
   "cell_type": "markdown",
   "metadata": {},
   "source": [
    "Countries with the highest death toll by Tsunamis are  Haiti, Indonesia  and Japan.\n",
    "Haiti catastrophic magnitude 7.0 Mw earthquake struck Haiti at 16:53 local time on Tuesday, 12 January 2010 and left a devasting death toll of 316,000."
   ]
  },
  {
   "cell_type": "code",
   "execution_count": 30,
   "metadata": {},
   "outputs": [
    {
     "data": {
      "text/plain": [
       "<AxesSubplot:ylabel='sum'>"
      ]
     },
     "execution_count": 30,
     "metadata": {},
     "output_type": "execute_result"
    },
    {
     "data": {
      "image/png": "[encoded data removed]",
      "text/plain": [
       "<Figure size 504x504 with 1 Axes>"
      ]
     },
     "metadata": {},
     "output_type": "display_data"
    }
   ],
   "source": [
    "Deaths_by_Countries = (tsunamis['Total Deaths']>25000)\n",
    "temp=tsunamis[Deaths_by_Countries]\n",
    "\n",
    "ctry=temp.groupby(['Country']).agg({'Total Deaths':['sum']}).plot(kind='pie', y='Total Deaths',figsize=(7, 7))\n",
    "\n",
    "ctry"
   ]
  },
  {
   "cell_type": "code",
   "execution_count": 31,
   "metadata": {},
   "outputs": [
    {
     "data": {
      "text/html": [
       "<div>\n",
       "<style scoped>\n",
       "    .dataframe tbody tr th:only-of-type {\n",
       "        vertical-align: middle;\n",
       "    }\n",
       "\n",
       "    .dataframe tbody tr th {\n",
       "        vertical-align: top;\n",
       "    }\n",
       "\n",
       "    .dataframe thead th {\n",
       "        text-align: right;\n",
       "    }\n",
       "</style>\n",
       "<table border=\"1\" class=\"dataframe\">\n",
       "  <thead>\n",
       "    <tr style=\"text-align: right;\">\n",
       "      <th></th>\n",
       "      <th>Country</th>\n",
       "      <th>Year</th>\n",
       "      <th>Total Deaths</th>\n",
       "    </tr>\n",
       "  </thead>\n",
       "  <tbody>\n",
       "    <tr>\n",
       "      <th>1978</th>\n",
       "      <td>HAITI</td>\n",
       "      <td>2010.0</td>\n",
       "      <td>316000.0</td>\n",
       "    </tr>\n",
       "    <tr>\n",
       "      <th>1904</th>\n",
       "      <td>INDONESIA</td>\n",
       "      <td>2004.0</td>\n",
       "      <td>227899.0</td>\n",
       "    </tr>\n",
       "    <tr>\n",
       "      <th>1034</th>\n",
       "      <td>JAPAN</td>\n",
       "      <td>1923.0</td>\n",
       "      <td>142807.0</td>\n",
       "    </tr>\n",
       "    <tr>\n",
       "      <th>1950</th>\n",
       "      <td>CHINA</td>\n",
       "      <td>2008.0</td>\n",
       "      <td>87652.0</td>\n",
       "    </tr>\n",
       "    <tr>\n",
       "      <th>884</th>\n",
       "      <td>ITALY</td>\n",
       "      <td>1908.0</td>\n",
       "      <td>80000.0</td>\n",
       "    </tr>\n",
       "    <tr>\n",
       "      <th>1554</th>\n",
       "      <td>PERU</td>\n",
       "      <td>1970.0</td>\n",
       "      <td>66794.0</td>\n",
       "    </tr>\n",
       "    <tr>\n",
       "      <th>46</th>\n",
       "      <td>INDONESIA</td>\n",
       "      <td>1815.0</td>\n",
       "      <td>60000.0</td>\n",
       "    </tr>\n",
       "    <tr>\n",
       "      <th>1191</th>\n",
       "      <td>PAKISTAN</td>\n",
       "      <td>1935.0</td>\n",
       "      <td>60000.0</td>\n",
       "    </tr>\n",
       "    <tr>\n",
       "      <th>1753</th>\n",
       "      <td>IRAN</td>\n",
       "      <td>1990.0</td>\n",
       "      <td>40000.0</td>\n",
       "    </tr>\n",
       "    <tr>\n",
       "      <th>619</th>\n",
       "      <td>INDONESIA</td>\n",
       "      <td>1883.0</td>\n",
       "      <td>36417.0</td>\n",
       "    </tr>\n",
       "    <tr>\n",
       "      <th>1253</th>\n",
       "      <td>TURKEY</td>\n",
       "      <td>1939.0</td>\n",
       "      <td>32700.0</td>\n",
       "    </tr>\n",
       "    <tr>\n",
       "      <th>1240</th>\n",
       "      <td>CHILE</td>\n",
       "      <td>1939.0</td>\n",
       "      <td>30000.0</td>\n",
       "    </tr>\n",
       "    <tr>\n",
       "      <th>791</th>\n",
       "      <td>MARTINIQUE (FRENCH TERRITORY)</td>\n",
       "      <td>1902.0</td>\n",
       "      <td>28000.0</td>\n",
       "    </tr>\n",
       "    <tr>\n",
       "      <th>729</th>\n",
       "      <td>JAPAN</td>\n",
       "      <td>1896.0</td>\n",
       "      <td>27122.0</td>\n",
       "    </tr>\n",
       "    <tr>\n",
       "      <th>38</th>\n",
       "      <td>VENEZUELA</td>\n",
       "      <td>1812.0</td>\n",
       "      <td>26000.0</td>\n",
       "    </tr>\n",
       "  </tbody>\n",
       "</table>\n",
       "</div>"
      ],
      "text/plain": [
       "                            Country    Year  Total Deaths\n",
       "1978                          HAITI  2010.0      316000.0\n",
       "1904                      INDONESIA  2004.0      227899.0\n",
       "1034                          JAPAN  1923.0      142807.0\n",
       "1950                          CHINA  2008.0       87652.0\n",
       "884                           ITALY  1908.0       80000.0\n",
       "1554                           PERU  1970.0       66794.0\n",
       "46                        INDONESIA  1815.0       60000.0\n",
       "1191                       PAKISTAN  1935.0       60000.0\n",
       "1753                           IRAN  1990.0       40000.0\n",
       "619                       INDONESIA  1883.0       36417.0\n",
       "1253                         TURKEY  1939.0       32700.0\n",
       "1240                          CHILE  1939.0       30000.0\n",
       "791   MARTINIQUE (FRENCH TERRITORY)  1902.0       28000.0\n",
       "729                           JAPAN  1896.0       27122.0\n",
       "38                        VENEZUELA  1812.0       26000.0"
      ]
     },
     "execution_count": 31,
     "metadata": {},
     "output_type": "execute_result"
    }
   ],
   "source": [
    "Deaths_by_Countries = (tsunamis['Total Deaths']>25000)\n",
    "temp = tsunamis[Deaths_by_Countries]\n",
    "temp[['Country','Year','Total Deaths']].sort_values(by='Total Deaths', ascending=False)\n"
   ]
  },
  {
   "cell_type": "code",
   "execution_count": 32,
   "metadata": {},
   "outputs": [
    {
     "data": {
      "text/plain": [
       "Text(0.5, 1.0, 'Total Deaths by Countries with the highest death toll')"
      ]
     },
     "execution_count": 32,
     "metadata": {},
     "output_type": "execute_result"
    },
    {
     "data": {
      "image/png": "[encoded data removed]",
      "text/plain": [
       "<Figure size 1656x360 with 1 Axes>"
      ]
     },
     "metadata": {
      "needs_background": "light"
     },
     "output_type": "display_data"
    }
   ],
   "source": [
    "plt.figure(figsize=(23, 5))\n",
    "sns.boxplot(x = \"Country\", y='Total Deaths', data = temp)\n",
    "plt.title(\"Total Deaths by Countries with the highest death toll\")"
   ]
  },
  {
   "cell_type": "markdown",
   "metadata": {},
   "source": [
    "## Deaths by Year ##"
   ]
  },
  {
   "cell_type": "markdown",
   "metadata": {},
   "source": [
    "The most lethal years were 2010 (Haiti), 2004 (Indonesia), 1923 (Japan) & 2008 (China)"
   ]
  },
  {
   "cell_type": "code",
   "execution_count": 33,
   "metadata": {},
   "outputs": [
    {
     "data": {
      "text/plain": [
       "<AxesSubplot:ylabel='sum'>"
      ]
     },
     "execution_count": 33,
     "metadata": {},
     "output_type": "execute_result"
    },
    {
     "data": {
      "image/png": "[encoded data removed]",
      "text/plain": [
       "<Figure size 504x504 with 1 Axes>"
      ]
     },
     "metadata": {},
     "output_type": "display_data"
    }
   ],
   "source": [
    "Deaths_by_Year = (tsunamis['Total Deaths']>25000)\n",
    "temp=tsunamis[Deaths_by_Year]\n",
    "\n",
    "yr=temp.groupby(['Year']).agg({'Total Deaths':['sum']}).plot(kind='pie', y='Total Deaths',figsize=(7, 7))\n",
    "yr"
   ]
  },
  {
   "cell_type": "code",
   "execution_count": 34,
   "metadata": {},
   "outputs": [
    {
     "data": {
      "text/plain": [
       "<AxesSubplot:xlabel='Maximum Water Height (m)', ylabel='Count'>"
      ]
     },
     "execution_count": 34,
     "metadata": {},
     "output_type": "execute_result"
    },
    {
     "data": {
      "image/png": "[encoded data removed]",
      "text/plain": [
       "<Figure size 432x288 with 1 Axes>"
      ]
     },
     "metadata": {
      "needs_background": "light"
     },
     "output_type": "display_data"
    }
   ],
   "source": [
    "sns.histplot(data=tsunamis, x=\"Maximum Water Height (m)\",kde=True)"
   ]
  },
  {
   "cell_type": "markdown",
   "metadata": {},
   "source": [
    "## Locations ##"
   ]
  },
  {
   "cell_type": "code",
   "execution_count": 35,
   "metadata": {},
   "outputs": [
    {
     "data": {
      "text/html": [
       "<div>\n",
       "<style scoped>\n",
       "    .dataframe tbody tr th:only-of-type {\n",
       "        vertical-align: middle;\n",
       "    }\n",
       "\n",
       "    .dataframe tbody tr th {\n",
       "        vertical-align: top;\n",
       "    }\n",
       "\n",
       "    .dataframe thead th {\n",
       "        text-align: right;\n",
       "    }\n",
       "</style>\n",
       "<table border=\"1\" class=\"dataframe\">\n",
       "  <thead>\n",
       "    <tr style=\"text-align: right;\">\n",
       "      <th></th>\n",
       "      <th>Latitude</th>\n",
       "      <th>Longitude</th>\n",
       "      <th>Total Deaths</th>\n",
       "    </tr>\n",
       "  </thead>\n",
       "  <tbody>\n",
       "    <tr>\n",
       "      <th>count</th>\n",
       "      <td>1892.000000</td>\n",
       "      <td>1892.000000</td>\n",
       "      <td>492.000000</td>\n",
       "    </tr>\n",
       "    <tr>\n",
       "      <th>mean</th>\n",
       "      <td>13.685687</td>\n",
       "      <td>37.707962</td>\n",
       "      <td>3271.034553</td>\n",
       "    </tr>\n",
       "    <tr>\n",
       "      <th>std</th>\n",
       "      <td>28.811748</td>\n",
       "      <td>110.683437</td>\n",
       "      <td>20341.118896</td>\n",
       "    </tr>\n",
       "    <tr>\n",
       "      <th>min</th>\n",
       "      <td>-63.000000</td>\n",
       "      <td>-179.971000</td>\n",
       "      <td>1.000000</td>\n",
       "    </tr>\n",
       "    <tr>\n",
       "      <th>25%</th>\n",
       "      <td>-8.305000</td>\n",
       "      <td>-71.500000</td>\n",
       "      <td>4.000000</td>\n",
       "    </tr>\n",
       "    <tr>\n",
       "      <th>50%</th>\n",
       "      <td>16.000000</td>\n",
       "      <td>50.674500</td>\n",
       "      <td>24.500000</td>\n",
       "    </tr>\n",
       "    <tr>\n",
       "      <th>75%</th>\n",
       "      <td>38.391500</td>\n",
       "      <td>140.334750</td>\n",
       "      <td>262.750000</td>\n",
       "    </tr>\n",
       "    <tr>\n",
       "      <th>max</th>\n",
       "      <td>71.813000</td>\n",
       "      <td>179.984000</td>\n",
       "      <td>316000.000000</td>\n",
       "    </tr>\n",
       "  </tbody>\n",
       "</table>\n",
       "</div>"
      ],
      "text/plain": [
       "          Latitude    Longitude   Total Deaths\n",
       "count  1892.000000  1892.000000     492.000000\n",
       "mean     13.685687    37.707962    3271.034553\n",
       "std      28.811748   110.683437   20341.118896\n",
       "min     -63.000000  -179.971000       1.000000\n",
       "25%      -8.305000   -71.500000       4.000000\n",
       "50%      16.000000    50.674500      24.500000\n",
       "75%      38.391500   140.334750     262.750000\n",
       "max      71.813000   179.984000  316000.000000"
      ]
     },
     "execution_count": 35,
     "metadata": {},
     "output_type": "execute_result"
    }
   ],
   "source": [
    "tsunamis[['Latitude', 'Longitude', 'Total Deaths']].describe()"
   ]
  },
  {
   "cell_type": "code",
   "execution_count": 36,
   "metadata": {},
   "outputs": [
    {
     "data": {
      "text/plain": [
       "[(37.7, 138.3, 19.0),\n",
       " (39.05, 139.95, 450.0),\n",
       " (44.833, 7.25, 2.0),\n",
       " (39.9, 139.9, 57.0),\n",
       " (10.6, -66.9, 26000.0),\n",
       " (34.2, -119.9, 1.0),\n",
       " (-8.2, 118.0, 60000.0),\n",
       " (-8.0, 115.0, 11453.0),\n",
       " (37.6, 15.133, 72.0),\n",
       " (23.0, 71.0, 1543.0),\n",
       " (37.75, 21.25, 8.0),\n",
       " (-7.0, 119.0, 500.0),\n",
       " (-15.95, -5.7, 3.0),\n",
       " (36.0, 36.0, 8000.0),\n",
       " (-33.0, -72.0, 72.0)]"
      ]
     },
     "execution_count": 36,
     "metadata": {},
     "output_type": "execute_result"
    }
   ],
   "source": [
    "temp = tsunamis[['Latitude','Longitude','Total Deaths']]\n",
    "temp = temp.dropna()\n",
    "\n",
    "my_zip = zip(temp['Latitude'], temp['Longitude'],temp['Total Deaths'])\n",
    "list_of_my_zip = list(my_zip)\n",
    "list_of_my_zip[0:15]"
   ]
  },
  {
   "cell_type": "code",
   "execution_count": 37,
   "metadata": {},
   "outputs": [],
   "source": [
    "from folium.plugins import HeatMap\n",
    "folium_hmap = folium.Map(location=[39.728593,8.952292], \n",
    "                         zoom_start=1.5, blur=0,\n",
    "                         tiles=\"OpenStreetMap\")\n"
   ]
  },
  {
   "cell_type": "code",
   "execution_count": 38,
   "metadata": {
    "scrolled": true
   },
   "outputs": [
    {
     "data": {
      "text/html": [
       "<div style=\"width:100%;\"><div style=\"position:relative;width:100%;height:0;padding-bottom:60%;\"><span style=\"color:#565656\">Make this Notebook Trusted to load map: File -> Trust Notebook</span><iframe src=\"about:blank\" style=\"position:absolute;width:100%;height:100%;left:0;top:0;border:none !important;\" data-html=%3C%21DOCTYPE%20html%3E%0A%3Chead%3E%20%20%20%20%0A%20%20%20%20%3Cmeta%20http-equiv%3D%22content-type%22%20content%3D%22text/html%3B%20charset%3DUTF-8%22%20/%3E%0A%20%20%20%20%0A%20%20%20%20%20%20%20%20%3Cscript%3E%0A%20%20%20%20%20%20%20%20%20%20%20%20L_NO_TOUCH%20%3D%20false%3B%0A%20%20%20%20%20%20%20%20%20%20%20%20L_DISABLE_3D%20%3D%20false%3B%0A%20%20%20%20%20%20%20%20%3C/script%3E%0A%20%20%20%20%0A%20%20%20%20%3Cstyle%3Ehtml%2C%20body%20%7Bwidth%3A%20100%25%3Bheight%3A%20100%25%3Bmargin%3A%200%3Bpadding%3A%200%3B%7D%3C/style%3E%0A%20%20%20%20%3Cstyle%3E%23map%20%7Bposition%3Aabsolute%3Btop%3A0%3Bbottom%3A0%3Bright%3A0%3Bleft%3A0%3B%7D%3C/style%3E%0A%20%20%20%20%3Cscript%20src%3D%22https%3A//cdn.jsdelivr.net/npm/leaflet%401.6.0/dist/leaflet.js%22%3E%3C/script%3E%0A%20%20%20%20%3Cscript%20src%3D%22https%3A//code.jquery.com/jquery-1.12.4.min.js%22%3E%3C/script%3E%0A%20%20%20%20%3Cscript%20src%3D%22https%3A//maxcdn.bootstrapcdn.com/bootstrap/3.2.0/js/bootstrap.min.js%22%3E%3C/script%3E%0A%20%20%20%20%3Cscript%20src%3D%22https%3A//cdnjs.cloudflare.com/ajax/libs/Leaflet.awesome-markers/2.0.2/leaflet.awesome-markers.js%22%3E%3C/script%3E%0A%20%20%20%20%3Clink%20rel%3D%22stylesheet%22%20href%3D%22https%3A//cdn.jsdelivr.net/npm/leaflet%401.6.0/dist/leaflet.css%22/%3E%0A%20%20%20%20%3Clink%20rel%3D%22stylesheet%22%20href%3D%22https%3A//maxcdn.bootstrapcdn.com/bootstrap/3.2.0/css/bootstrap.min.css%22/%3E%0A%20%20%20%20%3Clink%20rel%3D%22stylesheet%22%20href%3D%22https%3A//maxcdn.bootstrapcdn.com/bootstrap/3.2.0/css/bootstrap-theme.min.css%22/%3E%0A%20%20%20%20%3Clink%20rel%3D%22stylesheet%22%20href%3D%22https%3A//maxcdn.bootstrapcdn.com/font-awesome/4.6.3/css/font-awesome.min.css%22/%3E%0A%20%20%20%20%3Clink%20rel%3D%22stylesheet%22%20href%3D%22https%3A//cdnjs.cloudflare.com/ajax/libs/Leaflet.awesome-markers/2.0.2/leaflet.awesome-markers.css%22/%3E%0A%20%20%20%20%3Clink%20rel%3D%22stylesheet%22%20href%3D%22https%3A//cdn.jsdelivr.net/gh/python-visualization/folium/folium/templates/leaflet.awesome.rotate.min.css%22/%3E%0A%20%20%20%20%0A%20%20%20%20%20%20%20%20%20%20%20%20%3Cmeta%20name%3D%22viewport%22%20content%3D%22width%3Ddevice-width%2C%0A%20%20%20%20%20%20%20%20%20%20%20%20%20%20%20%20initial-scale%3D1.0%2C%20maximum-scale%3D1.0%2C%20user-scalable%3Dno%22%20/%3E%0A%20%20%20%20%20%20%20%20%20%20%20%20%3Cstyle%3E%0A%20%20%20%20%20%20%20%20%20%20%20%20%20%20%20%20%23map_596038a5d76948e696979d343f75ae92%20%7B%0A%20%20%20%20%20%20%20%20%20%20%20%20%20%20%20%20%20%20%20%20position%3A%20relative%3B%0A%20%20%20%20%20%20%20%20%20%20%20%20%20%20%20%20%20%20%20%20width%3A%20100.0%25%3B%0A%20%20%20%20%20%20%20%20%20%20%20%20%20%20%20%20%20%20%20%20height%3A%20100.0%25%3B%0A%20%20%20%20%20%20%20%20%20%20%20%20%20%20%20%20%20%20%20%20left%3A%200.0%25%3B%0A%20%20%20%20%20%20%20%20%20%20%20%20%20%20%20%20%20%20%20%20top%3A%200.0%25%3B%0A%20%20%20%20%20%20%20%20%20%20%20%20%20%20%20%20%7D%0A%20%20%20%20%20%20%20%20%20%20%20%20%3C/style%3E%0A%20%20%20%20%20%20%20%20%0A%20%20%20%20%3Cscript%20src%3D%22https%3A//cdn.jsdelivr.net/gh/python-visualization/folium%40master/folium/templates/leaflet_heat.min.js%22%3E%3C/script%3E%0A%3C/head%3E%0A%3Cbody%3E%20%20%20%20%0A%20%20%20%20%0A%20%20%20%20%20%20%20%20%20%20%20%20%3Cdiv%20class%3D%22folium-map%22%20id%3D%22map_596038a5d76948e696979d343f75ae92%22%20%3E%3C/div%3E%0A%20%20%20%20%20%20%20%20%0A%3C/body%3E%0A%3Cscript%3E%20%20%20%20%0A%20%20%20%20%0A%20%20%20%20%20%20%20%20%20%20%20%20var%20map_596038a5d76948e696979d343f75ae92%20%3D%20L.map%28%0A%20%20%20%20%20%20%20%20%20%20%20%20%20%20%20%20%22map_596038a5d76948e696979d343f75ae92%22%2C%0A%20%20%20%20%20%20%20%20%20%20%20%20%20%20%20%20%7B%0A%20%20%20%20%20%20%20%20%20%20%20%20%20%20%20%20%20%20%20%20center%3A%20%5B39.728593%2C%208.952292%5D%2C%0A%20%20%20%20%20%20%20%20%20%20%20%20%20%20%20%20%20%20%20%20crs%3A%20L.CRS.EPSG3857%2C%0A%20%20%20%20%20%20%20%20%20%20%20%20%20%20%20%20%20%20%20%20zoom%3A%201.5%2C%0A%20%20%20%20%20%20%20%20%20%20%20%20%20%20%20%20%20%20%20%20zoomControl%3A%20true%2C%0A%20%20%20%20%20%20%20%20%20%20%20%20%20%20%20%20%20%20%20%20preferCanvas%3A%20false%2C%0A%20%20%20%20%20%20%20%20%20%20%20%20%20%20%20%20%20%20%20%20blur%3A%200%2C%0A%20%20%20%20%20%20%20%20%20%20%20%20%20%20%20%20%7D%0A%20%20%20%20%20%20%20%20%20%20%20%20%29%3B%0A%0A%20%20%20%20%20%20%20%20%20%20%20%20%0A%0A%20%20%20%20%20%20%20%20%0A%20%20%20%20%0A%20%20%20%20%20%20%20%20%20%20%20%20var%20tile_layer_c1554e2dccc241f7972e7a3c7de01a29%20%3D%20L.tileLayer%28%0A%20%20%20%20%20%20%20%20%20%20%20%20%20%20%20%20%22https%3A//%7Bs%7D.tile.openstreetmap.org/%7Bz%7D/%7Bx%7D/%7By%7D.png%22%2C%0A%20%20%20%20%20%20%20%20%20%20%20%20%20%20%20%20%7B%22attribution%22%3A%20%22Data%20by%20%5Cu0026copy%3B%20%5Cu003ca%20href%3D%5C%22http%3A//openstreetmap.org%5C%22%5Cu003eOpenStreetMap%5Cu003c/a%5Cu003e%2C%20under%20%5Cu003ca%20href%3D%5C%22http%3A//www.openstreetmap.org/copyright%5C%22%5Cu003eODbL%5Cu003c/a%5Cu003e.%22%2C%20%22detectRetina%22%3A%20false%2C%20%22maxNativeZoom%22%3A%2018%2C%20%22maxZoom%22%3A%2018%2C%20%22minZoom%22%3A%200%2C%20%22noWrap%22%3A%20false%2C%20%22opacity%22%3A%201%2C%20%22subdomains%22%3A%20%22abc%22%2C%20%22tms%22%3A%20false%7D%0A%20%20%20%20%20%20%20%20%20%20%20%20%29.addTo%28map_596038a5d76948e696979d343f75ae92%29%3B%0A%20%20%20%20%20%20%20%20%0A%20%20%20%20%0A%20%20%20%20%20%20%20%20%20%20%20%20var%20heat_map_e7d7c09f70d94f1895ca60273932e8f4%20%3D%20L.heatLayer%28%0A%20%20%20%20%20%20%20%20%20%20%20%20%20%20%20%20%5B%5B37.7%2C%20138.3%2C%2019.0%5D%2C%20%5B39.05%2C%20139.95%2C%20450.0%5D%2C%20%5B44.833%2C%207.25%2C%202.0%5D%2C%20%5B39.9%2C%20139.9%2C%2057.0%5D%2C%20%5B10.6%2C%20-66.9%2C%2026000.0%5D%2C%20%5B34.2%2C%20-119.9%2C%201.0%5D%2C%20%5B-8.2%2C%20118.0%2C%2060000.0%5D%2C%20%5B-8.0%2C%20115.0%2C%2011453.0%5D%2C%20%5B37.6%2C%2015.133%2C%2072.0%5D%2C%20%5B23.0%2C%2071.0%2C%201543.0%5D%2C%20%5B37.75%2C%2021.25%2C%208.0%5D%2C%20%5B-7.0%2C%20119.0%2C%20500.0%5D%2C%20%5B-15.95%2C%20-5.7%2C%203.0%5D%2C%20%5B36.0%2C%2036.0%2C%208000.0%5D%2C%20%5B-33.0%2C%20-72.0%2C%2072.0%5D%2C%20%5B38.8%2C%2020.7%2C%2058.0%5D%2C%20%5B39.0%2C%2017.0%2C%20234.0%5D%2C%20%5B25.2%2C%20103.0%2C%206700.0%5D%2C%20%5B-18.251%2C%20-71.01%2C%20700.0%5D%2C%20%5B38.9%2C%20139.15%2C%2085.0%5D%2C%20%5B-36.83%2C%20-73.03%2C%2053.0%5D%2C%20%5B39.6%2C%2016.6%2C%20589.0%5D%2C%20%5B-42.5%2C%20-74.0%2C%2016.0%5D%2C%20%5B12.9%2C%20123.9%2C%2052.0%5D%2C%20%5B19.75%2C%20-72.2%2C%205300.0%5D%2C%20%5B16.5%2C%20-62.2%2C%205000.0%5D%2C%20%5B42.0%2C%20146.0%2C%2045.0%5D%2C%20%5B1.5%2C%20124.85%2C%20118.0%5D%2C%20%5B43.4%2C%2010.6%2C%2056.0%5D%2C%20%5B39.483%2C%20-31.233%2C%2010.0%5D%2C%20%5B40.5%2C%2019.7%2C%202000.0%5D%2C%20%5B14.0%2C%20120.5%2C%203.0%5D%2C%20%5B-5.25%2C%20129.75%2C%2060.0%5D%2C%20%5B17.0%2C%20-100.0%2C%201.0%5D%2C%20%5B10.5%2C%20-64.2%2C%201000.0%5D%2C%20%5B38.25%2C%2023.5%2C%2017.0%5D%2C%20%5B34.0%2C%20137.9%2C%201000.0%5D%2C%20%5B33.1%2C%20135.0%2C%203000.0%5D%2C%20%5B35.65%2C%20139.8%2C%206757.0%5D%2C%20%5B3.67%2C%20125.5%2C%202806.0%5D%2C%20%5B37.1%2C%205.7%2C%205.0%5D%2C%20%5B37.1%2C%205.7%2C%208.0%5D%2C%20%5B40.5%2C%20143.5%2C%2026.0%5D%2C%20%5B35.5%2C%2026.0%2C%20538.0%5D%2C%20%5B-8.0%2C%20115.5%2C%2036.0%5D%2C%20%5B-27.35%2C%20-70.35%2C%2010.0%5D%2C%20%5B-9.0%2C%20111.0%2C%202.0%5D%2C%20%5B-1.0%2C%2097.5%2C%201105.0%5D%2C%20%5B0.009%2C%2098.0%2C%20950.0%5D%2C%20%5B7.0%2C%200.4%2C%203.0%5D%2C%20%5B36.5%2C%2028.0%2C%20300.0%5D%2C%20%5B14.5%2C%20121.0%2C%20400.0%5D%2C%20%5B-1.0%2C%20135.0%2C%20250.0%5D%2C%20%5B-12.0%2C%20-77.1%2C%205.0%5D%2C%20%5B40.3%2C%2019.4%2C%2060.0%5D%2C%20%5B40.4%2C%2019.5%2C%2060.0%5D%2C%20%5B39.2%2C%2026.4%2C%20563.0%5D%2C%20%5B46.0%2C%208.7%2C%2016.0%5D%2C%20%5B-7.8%2C%20110.4%2C%205.0%5D%2C%20%5B18.1%2C%20-65.1%2C%2024.0%5D%2C%20%5B25.34%2C%20121.91%2C%20580.0%5D%2C%20%5B19.0%2C%20-155.5%2C%2077.0%5D%2C%20%5B-18.6%2C%20-71.0%2C%2025000.0%5D%2C%20%5B37.7%2C%20-122.1%2C%2030.0%5D%2C%20%5B15.4%2C%20-96.3%2C%2024.0%5D%2C%20%5B38.5%2C%2022.5%2C%20100.0%5D%2C%20%5B47.4%2C%20-70.5%2C%202.0%5D%2C%20%5B2.28%2C%20125.425%2C%20400.0%5D%2C%20%5B34.9%2C%20132.0%2C%20804.0%5D%2C%20%5B36.2%2C%2036.2%2C%201800.0%5D%2C%20%5B22.0%2C%2089.0%2C%202000.0%5D%2C%20%5B-20.0%2C%20168.5%2C%2025.0%5D%2C%20%5B-21.5%2C%20-70.5%2C%202385.0%5D%2C%20%5B-12.0%2C%20-77.0%2C%205.0%5D%2C%20%5B-4.25%2C%20152.25%2C%201.0%5D%2C%20%5B40.7%2C%2029.7%2C%2040.0%5D%2C%20%5B35.18%2C%20-120.731%2C%201.0%5D%2C%20%5B16.0%2C%20121.85%2C%2020.0%5D%2C%20%5B-31.62%2C%20-71.18%2C%202.0%5D%2C%20%5B38.2%2C%2026.2%2C%207866.0%5D%2C%20%5B24.5%2C%20120.5%2C%208.0%5D%2C%20%5B-6.102%2C%20105.423%2C%2036417.0%5D%2C%20%5B59.4%2C%20-153.4%2C%208.0%5D%2C%20%5B30.8%2C%20-109.25%2C%2051.0%5D%2C%20%5B63.433%2C%2010.383%2C%201.0%5D%2C%20%5B36.6%2C%2054.6%2C%20171.0%5D%2C%20%5B36.5%2C%201.8%2C%2036.0%5D%2C%20%5B3.67%2C%20125.5%2C%201532.0%5D%2C%20%5B37.0%2C%20136.8%2C%201.0%5D%2C%20%5B40.5%2C%2025.5%2C%201.0%5D%2C%20%5B42.5%2C%20146.0%2C%201.0%5D%2C%20%5B38.9%2C%20139.8%2C%20726.0%5D%2C%20%5B38.3%2C%2015.9%2C%20101.0%5D%2C%20%5B47.286%2C%20-122.445%2C%202.0%5D%2C%20%5B39.5%2C%20144.0%2C%2027122.0%5D%2C%20%5B26.0%2C%2091.0%2C%201542.0%5D%2C%20%5B6.0%2C%20122.0%2C%2013.0%5D%2C%20%5B-36.83%2C%20-73.03%2C%206.0%5D%2C%20%5B38.64%2C%20-28.03%2C%201.0%5D%2C%20%5B-3.0%2C%20128.5%2C%202460.0%5D%2C%20%5B58.6%2C%20-137.5%2C%205.0%5D%2C%20%5B-4.0%2C%20140.0%2C%205.0%5D%2C%20%5B11.0%2C%20-66.0%2C%2025.0%5D%2C%20%5B43.4%2C%2028.5%2C%204.0%5D%2C%20%5B40.6%2C%20142.3%2C%2018.0%5D%2C%20%5B13.5%2C%20-89.5%2C%20185.0%5D%2C%20%5B14.0%2C%20-91.0%2C%202000.0%5D%2C%20%5B14.82%2C%20-61.17%2C%2023.0%5D%2C%20%5B13.33%2C%20-61.18%2C%201680.0%5D%2C%20%5B14.82%2C%20-61.17%2C%2028000.0%5D%2C%20%5B14.82%2C%20-61.17%2C%201500.0%5D%2C%20%5B61.866%2C%206.85%2C%2061.0%5D%2C%20%5B-40.5%2C%20175.0%2C%201.0%5D%2C%20%5B33.0%2C%2076.0%2C%2019000.0%5D%2C%20%5B37.4%2C%20142.6%2C%2057.0%5D%2C%20%5B38.67%2C%2016.07%2C%20557.0%5D%2C%20%5B40.092%2C%2024.627%2C%2011.0%5D%2C%20%5B1.0%2C%20-81.5%2C%201000.0%5D%2C%20%5B40.821%2C%2014.426%2C%20350.0%5D%2C%20%5B-33.0%2C%20-72.0%2C%204000.0%5D%2C%20%5B2.681%2C%2095.53%2C%202188.0%5D%2C%20%5B18.667%2C%20-76.237%2C%201000.0%5D%2C%20%5B17.0%2C%20-100.0%2C%208.0%5D%2C%20%5B38.133%2C%2016.017%2C%20158.0%5D%2C%20%5B45.77%2C%20-75.6%2C%2033.0%5D%2C%20%5B38.17%2C%2015.58%2C%2080000.0%5D%2C%20%5B35.4%2C%20136.3%2C%2041.0%5D%2C%20%5B14.002%2C%20120.993%2C%201335.0%5D%2C%20%5B28.0%2C%20130.0%2C%2012.0%5D%2C%20%5B40.444%2C%2026.784%2C%202800.0%5D%2C%20%5B5.354%2C%20126.121%2C%20138.0%5D%2C%20%5B31.58%2C%20130.67%2C%2063.0%5D%2C%20%5B-3.924%2C%20101.82%2C%2020.0%5D%2C%20%5B-37.8%2C%20178.2%2C%201.0%5D%2C%20%5B38.8%2C%2020.6%2C%2014.0%5D%2C%20%5B-14.18%2C%20-169.66%2C%203.0%5D%2C%20%5B-7.0%2C%20116.0%2C%201500.0%5D%2C%20%5B6.0%2C%20125.0%2C%207.0%5D%2C%20%5B-15.5%2C%20-173.0%2C%202.0%5D%2C%20%5B58.204%2C%20-134.147%2C%201.0%5D%2C%20%5B44.633%2C%20-63.583%2C%202000.0%5D%2C%20%5B23.5%2C%20117.2%2C%202000.0%5D%2C%20%5B5.5%2C%20123.0%2C%2052.0%5D%2C%20%5B45.5%2C%20151.5%2C%2023.0%5D%2C%20%5B18.7%2C%20-67.189%2C%20144.0%5D%2C%20%5B38.789%2C%2015.213%2C%204.0%5D%2C%20%5B10.2%2C%20124.1%2C%205.0%5D%2C%20%5B24.5%2C%20122.0%2C%205.0%5D%2C%20%5B-28.553%2C%20-70.755%2C%20700.0%5D%2C%20%5B54.0%2C%20161.0%2C%203.0%5D%2C%20%5B56.5%2C%20162.5%2C%2018.0%5D%2C%20%5B40.6%2C%20-73.5%2C%202.0%5D%2C%20%5B35.1%2C%20139.5%2C%20142807.0%5D%2C%20%5B9.3%2C%20122.7%2C%2017.0%5D%2C%20%5B37.973%2C%20-28.59%2C%209.0%5D%2C%20%5B32.5%2C%20-115.5%2C%201.0%5D%2C%20%5B35.6%2C%20135.1%2C%203022.0%5D%2C%20%5B32.0%2C%2035.5%2C%20268.0%5D%2C%20%5B44.4%2C%2034.5%2C%2011.0%5D%2C%20%5B-0.7%2C%20119.7%2C%2050.0%5D%2C%20%5B38.1%2C%2027.4%2C%20170.0%5D%2C%20%5B-13.0%2C%20-69.6%2C%2010.0%5D%2C%20%5B38.0%2C%2023.0%2C%2020.0%5D%2C%20%5B16.028%2C%20-97.036%2C%204.0%5D%2C%20%5B-8.32%2C%20121.708%2C%20226.0%5D%2C%20%5B-35.0%2C%20-72.0%2C%20279.0%5D%2C%20%5B7.0%2C%20124.0%2C%2097.0%5D%2C%20%5B10.6%2C%20-65.6%2C%2050.0%5D%2C%20%5B-41.75%2C%20172.25%2C%2017.0%5D%2C%20%5B4.633%2C%2095.567%2C%206.0%5D%2C%20%5B44.69%2C%20-56.0%2C%2028.0%5D%2C%20%5B32.617%2C%20-16.967%2C%2020.0%5D%2C%20%5B17.3%2C%2096.5%2C%20500.0%5D%2C%20%5B34.03%2C%20-118.643%2C%201.0%5D%2C%20%5B38.789%2C%2015.213%2C%206.0%5D%2C%20%5B43.667%2C%2013.267%2C%2018.0%5D%2C%20%5B-1.3%2C%20144.3%2C%2027.0%5D%2C%20%5B-39.772%2C%20176.025%2C%20261.0%5D%2C%20%5B39.35%2C%20-74.417%2C%204.0%5D%2C%20%5B-10.932%2C%20161.016%2C%2050.0%5D%2C%20%5B32.2%2C%20132.1%2C%201.0%5D%2C%20%5B19.623%2C%20-103.919%2C%20400.0%5D%2C%20%5B19.242%2C%20-104.383%2C%2075.0%5D%2C%20%5B40.5%2C%2023.9%2C%20161.0%5D%2C%20%5B49.12%2C%20154.508%2C%202.0%5D%2C%20%5B39.224%2C%20144.622%2C%203022.0%5D%2C%20%5B33.616%2C%20-117.966%2C%20120.0%5D%2C%20%5B36.759%2C%2027.299%2C%20181.0%5D%2C%20%5B12.77%2C%20124.05%2C%209.0%5D%2C%20%5B26.773%2C%2086.76%2C%2010600.0%5D%2C%20%5B62.27%2C%207.4%2C%2041.0%5D%2C%20%5B40.62%2C%2027.451%2C%205.0%5D%2C%20%5B29.5%2C%2066.8%2C%2060000.0%5D%2C%20%5B28.7%2C%20103.6%2C%20100.0%5D%2C%20%5B-24.5%2C%20-70.0%2C%201.0%5D%2C%20%5B6.1%2C%2094.7%2C%209.0%5D%2C%20%5B61.87%2C%206.851%2C%2073.0%5D%2C%20%5B-4.271%2C%20152.203%2C%20507.0%5D%2C%20%5B14.5%2C%20121.5%2C%201.0%5D%2C%20%5B-1.0%2C%20120.0%2C%2017.0%5D%2C%20%5B43.6%2C%20144.3%2C%201.0%5D%2C%20%5B37.1%2C%20141.7%2C%201.0%5D%2C%20%5B-36.25%2C%20-72.25%2C%2030000.0%5D%2C%20%5B-7.08%2C%20155.386%2C%205.0%5D%2C%20%5B32.3%2C%20132.0%2C%201.0%5D%2C%20%5B-9.295%2C%20159.234%2C%2012.0%5D%2C%20%5B40.1%2C%20139.5%2C%2027.0%5D%2C%20%5B5.568%2C%20-0.625%2C%2022.0%5D%2C%20%5B39.77%2C%2039.533%2C%2032700.0%5D%2C%20%5B-10.5%2C%20-77.0%2C%20179.0%5D%2C%20%5B44.2%2C%20139.5%2C%2010.0%5D%2C%20%5B-4.175%2C%20152.071%2C%204.0%5D%2C%20%5B32.0%2C%20132.1%2C%202.0%5D%2C%20%5B8.7%2C%20-83.2%2C%206.0%5D%2C%20%5B-15.0%2C%20-76.0%2C%2030.0%5D%2C%20%5B-30.75%2C%20-72.0%2C%2011.0%5D%2C%20%5B39.509%2C%2026.587%2C%2030.0%5D%2C%20%5B34.0%2C%20137.1%2C%201223.0%5D%2C%20%5B34.7%2C%20137.2%2C%202306.0%5D%2C%20%5B40.9%2C%20142.1%2C%202.0%5D%2C%20%5B24.5%2C%2063.0%2C%204000.0%5D%2C%20%5B53.492%2C%20-162.832%2C%20168.0%5D%2C%20%5B-26.5%2C%20-70.5%2C%202.0%5D%2C%20%5B19.25%2C%20-69.0%2C%201790.0%5D%2C%20%5B19.5%2C%20-69.5%2C%2075.0%5D%2C%20%5B33.0%2C%20135.6%2C%201362.0%5D%2C%20%5B37.0%2C%2022.0%2C%203.0%5D%2C%20%5B10.5%2C%20122.0%2C%2074.0%5D%2C%20%5B38.532%2C%2020.427%2C%202.0%5D%2C%20%5B22.0%2C%20-106.0%2C%204.0%5D%2C%20%5B47.167%2C%20-122.617%2C%208.0%5D%2C%20%5B38.718%2C%2026.482%2C%207.0%5D%2C%20%5B-54.0%2C%20-71.0%2C%201.0%5D%2C%20%5B-54.0%2C%20-71.0%2C%203.0%5D%2C%20%5B17.0%2C%20121.63%2C%2016.0%5D%2C%20%5B9.71%2C%20-69.819%2C%20100.0%5D%2C%20%5B28.5%2C%2096.5%2C%201530.0%5D%2C%20%5B-3.8%2C%20128.3%2C%201.0%5D%2C%20%5B-14.25%2C%20-77.75%2C%204.0%5D%2C%20%5B23.8%2C%20121.7%2C%2068.0%5D%2C%20%5B42.15%2C%20143.85%2C%2033.0%5D%2C%20%5B32.1%2C%20139.85%2C%2031.0%5D%2C%20%5B52.755%2C%20160.057%2C%2010000.0%5D%2C%20%5B70.3%2C%20-53.0%2C%201.0%5D%2C%20%5B-36.5%2C%20-72.5%2C%209.0%5D%2C%20%5B38.3%2C%2020.8%2C%20476.0%5D%2C%20%5B34.741%2C%2032.335%2C%2040.0%5D%2C%20%5B-18.3%2C%20178.2%2C%207.0%5D%2C%20%5B-41.0%2C%20147.4%2C%201.0%5D%2C%20%5B34.0%2C%20141.7%2C%201.0%5D%2C%20%5B-3.4%2C%20-80.6%2C%206.0%5D%2C%20%5B41.7%2C%20-86.883%2C%207.0%5D%2C%20%5B36.283%2C%201.467%2C%201243.0%5D%2C%20%5B39.4%2C%2023.1%2C%208.0%5D%2C%20%5B-30.0%2C%20-72.0%2C%201.0%5D%2C%20%5B36.664%2C%2025.957%2C%2056.0%5D%2C%20%5B51.292%2C%20-175.629%2C%202.0%5D%2C%20%5B16.5%2C%20-99.1%2C%2065.0%5D%2C%20%5B1.5%2C%20-79.5%2C%20115.0%5D%2C%20%5B58.37%2C%20-136.665%2C%205.0%5D%2C%20%5B69.817%2C%2020.917%2C%209.0%5D%2C%20%5B44.712%2C%20-111.215%2C%2028.0%5D%2C%20%5B30.5%2C%20-9.5%2C%2013100.0%5D%2C%20%5B-38.143%2C%20-73.407%2C%202226.0%5D%2C%20%5B-6.8%2C%20-80.7%2C%2066.0%5D%2C%20%5B31.6%2C%20131.8%2C%202.0%5D%2C%20%5B17.2%2C%20-99.6%2C%204.0%5D%2C%20%5B17.2%2C%20-99.5%2C%203.0%5D%2C%20%5B38.31%2C%2022.02%2C%202.0%5D%2C%20%5B24.4%2C%20122.1%2C%2015.0%5D%2C%20%5B54.0%2C%20-132.25%2C%201.0%5D%2C%20%5B-8.342%2C%20115.508%2C%201028.0%5D%2C%20%5B40.698%2C%2029.159%2C%201.0%5D%2C%20%5B-10.385%2C%20-78.022%2C%201.0%5D%2C%20%5B46.267%2C%2012.329%2C%202000.0%5D%2C%20%5B61.017%2C%20-147.648%2C%20139.0%5D%2C%20%5B38.65%2C%20139.2%2C%2026.0%5D%2C%20%5B-2.4%2C%20126.1%2C%2071.0%5D%2C%20%5B-41.755%2C%20-72.396%2C%2027.0%5D%2C%20%5B39.4%2C%2024.0%2C%2038.0%5D%2C%20%5B38.267%2C%2022.3%2C%202.0%5D%2C%20%5B16.3%2C%20-95.8%2C%206.0%5D%2C%20%5B14.002%2C%20120.993%2C%20355.0%5D%2C%20%5B24.1%2C%20122.6%2C%207.0%5D%2C%20%5B-10.748%2C%20-78.638%2C%20110.0%5D%2C%20%5B-25.5%2C%20-70.7%2C%203.0%5D%2C%20%5B-3.7%2C%20119.3%2C%2071.0%5D%2C%20%5B5.5%2C%2097.3%2C%2014.0%5D%2C%20%5B10.559%2C%20-67.33%2C%20300.0%5D%2C%20%5B-21.7%2C%20-69.5%2C%201.0%5D%2C%20%5B39.368%2C%2024.957%2C%2020.0%5D%2C%20%5B32.3%2C%20132.5%2C%201.0%5D%2C%20%5B40.8%2C%20143.2%2C%2052.0%5D%2C%20%5B16.5%2C%20122.2%2C%20270.0%5D%2C%20%5B0.2%2C%20119.8%2C%20200.0%5D%2C%20%5B41.8%2C%2032.3%2C%2024.0%5D%2C%20%5B10.697%2C%20-62.748%2C%203.0%5D%2C%20%5B15.6%2C%20-92.6%2C%2015.0%5D%2C%20%5B-3.1%2C%20118.9%2C%20664.0%5D%2C%20%5B36.017%2C%20-10.95%2C%2025.0%5D%2C%20%5B19.077%2C%20122.202%2C%203.0%5D%2C%20%5B27.7%2C%2034.0%2C%202.0%5D%2C%20%5B38.2%2C%20119.4%2C%2010.0%5D%2C%20%5B15.78%2C%20121.71%2C%2015.0%5D%2C%20%5B-9.2%2C%20-78.8%2C%2066794.0%5D%2C%20%5B-4.907%2C%20145.471%2C%2018.0%5D%2C%20%5B-11.116%2C%20-76.5%2C%20600.0%5D%2C%20%5B-32.5%2C%20-71.2%2C%2083.0%5D%2C%20%5B-5.5%2C%20153.9%2C%203.0%5D%2C%20%5B22.5%2C%20122.3%2C%201.0%5D%2C%20%5B18.48%2C%20-103.0%2C%2056.0%5D%2C%20%5B13.4%2C%20122.8%2C%2015.0%5D%2C%20%5B-8.54%2C%20123.59%2C%202.0%5D%2C%20%5B34.6%2C%20138.7%2C%2030.0%5D%2C%20%5B-12.27%2C%20-77.79%2C%2078.0%5D%2C%20%5B35.1%2C%2072.9%2C%205300.0%5D%2C%20%5B-29.9%2C%20-71.3%2C%202.0%5D%2C%20%5B12.54%2C%20125.993%2C%201.0%5D%2C%20%5B19.451%2C%20-155.033%2C%202.0%5D%2C%20%5B15.324%2C%20-89.101%2C%2023000.0%5D%2C%20%5B7.4%2C%20-78.1%2C%205.0%5D%2C%20%5B6.292%2C%20124.09%2C%208000.0%5D%2C%20%5B-9.828%2C%20163.323%2C%2034.0%5D%2C%20%5B-9.965%2C%20160.731%2C%2018.0%5D%2C%20%5B-22.878%2C%20-175.9%2C%201.0%5D%2C%20%5B-11.085%2C%20118.464%2C%20189.0%5D%2C%20%5B34.809%2C%20139.259%2C%2025.0%5D%2C%20%5B38.19%2C%20142.03%2C%2028.0%5D%2C%20%5B40.739%2C%2023.229%2C%2050.0%5D%2C%20%5B16.01%2C%20-96.591%2C%209.0%5D%2C%20%5B17.813%2C%20-101.276%2C%205.0%5D%2C%20%5B42.096%2C%2019.209%2C%20131.0%5D%2C%20%5B-8.6%2C%20123.5%2C%201239.0%5D%2C%20%5B-1.679%2C%20136.04%2C%20115.0%5D%2C%20%5B43.7%2C%207.25%2C%209.0%5D%2C%20%5B1.598%2C%20-79.358%2C%20600.0%5D%2C%20%5B38.727%2C%20-27.75%2C%2069.0%5D%2C%20%5B46.2%2C%20-122.18%2C%2061.0%5D%2C%20%5B36.195%2C%201.354%2C%205000.0%5D%2C%20%5B38.222%2C%2022.934%2C%2022.0%5D%2C%20%5B18.084%2C%20-102.084%2C%203.0%5D%2C%20%5B42.158%2C%20142.361%2C%20110.0%5D%2C%20%5B-8.405%2C%20123.08%2C%2013.0%5D%2C%20%5B40.462%2C%20139.102%2C%20104.0%5D%2C%20%5B18.231%2C%20120.86%2C%2016.0%5D%2C%20%5B-26.535%2C%20-70.563%2C%205.0%5D%2C%20%5B-2.823%2C%20118.806%2C%202.0%5D%2C%20%5B6.25%2C%2010.5%2C%2037.0%5D%2C%20%5B-33.132%2C%20-71.708%2C%20180.0%5D%2C%20%5B18.19%2C%20-102.533%2C%209500.0%5D%2C%20%5B6.25%2C%2010.5%2C%201700.0%5D%2C%20%5B23.901%2C%20121.574%2C%2015.0%5D%2C%20%5B-6.088%2C%20147.689%2C%203.0%5D%2C%20%5B-24.388%2C%20-70.161%2C%201.0%5D%2C%20%5B32.034%2C%20131.837%2C%202.0%5D%2C%20%5B25.149%2C%2095.127%2C%205.0%5D%2C%20%5B-10.258%2C%20160.896%2C%201.0%5D%2C%20%5B26.755%2C%2086.616%2C%20998.0%5D%2C%20%5B37.036%2C%20-121.883%2C%2062.0%5D%2C%20%5B36.788%2C%202.448%2C%2030.0%5D%2C%20%5B36.957%2C%2049.409%2C%2040000.0%5D%2C%20%5B37.3%2C%2015.438%2C%2019.0%5D%2C%20%5B9.685%2C%20-83.073%2C%2090.0%5D%2C%20%5B11.727%2C%20-87.386%2C%20170.0%5D%2C%20%5B-8.48%2C%20121.896%2C%202500.0%5D%2C%20%5B-14.385%2C%20-178.252%2C%205.0%5D%2C%20%5B42.851%2C%20139.197%2C%20231.0%5D%2C%20%5B34.213%2C%20-118.537%2C%2060.0%5D%2C%20%5B1.015%2C%20127.733%2C%209.0%5D%2C%20%5B-10.477%2C%20112.835%2C%20238.0%5D%2C%20%5B22.528%2C%20118.711%2C%201.0%5D%2C%20%5B-4.238%2C%20152.214%2C%204.0%5D%2C%20%5B43.773%2C%20147.321%2C%2011.0%5D%2C%20%5B-1.258%2C%20127.98%2C%201.0%5D%2C%20%5B59.5%2C%20-135.3%2C%201.0%5D%2C%20%5B13.525%2C%20121.067%2C%2081.0%5D%2C%20%5B40.525%2C%20143.419%2C%203.0%5D%2C%20%5B34.583%2C%20135.018%2C%205502.0%5D%2C%20%5B-8.452%2C%20125.049%2C%2011.0%5D%2C%20%5B52.629%2C%20142.827%2C%201989.0%5D%2C%20%5B38.401%2C%2022.283%2C%2026.0%5D%2C%20%5B-23.34%2C%20-70.294%2C%203.0%5D%2C%20%5B16.779%2C%20-98.597%2C%203.0%5D%2C%20%5B19.055%2C%20-104.205%2C%2050.0%5D%2C%20%5B28.826%2C%2034.799%2C%2011.0%5D%2C%20%5B0.729%2C%20119.931%2C%209.0%5D%2C%20%5B-0.891%2C%20136.952%2C%20164.0%5D%2C%20%5B-9.593%2C%20-79.587%2C%2012.0%5D%2C%20%5B-14.993%2C%20-75.675%2C%2014.0%5D%2C%20%5B10.598%2C%20-63.486%2C%2081.0%5D%2C%20%5B-2.943%2C%20142.582%2C%201636.0%5D%2C%20%5B-2.071%2C%20124.891%2C%2041.0%5D%2C%20%5B40.76%2C%2029.97%2C%2017118.0%5D%2C%20%5B-16.423%2C%20168.214%2C%2010.0%5D%2C%20%5B-1.105%2C%20123.573%2C%2046.0%5D%2C%20%5B34.221%2C%20139.131%2C%201.0%5D%2C%20%5B-4.001%2C%20152.327%2C%202.0%5D%2C%20%5B13.049%2C%20-88.66%2C%20844.0%5D%2C%20%5B-16.265%2C%20-73.641%2C%20103.0%5D%2C%20%5B6.033%2C%20124.249%2C%2015.0%5D%2C%20%5B24.279%2C%20122.179%2C%205.0%5D%2C%20%5B-3.26%2C%20142.94%2C%204.0%5D%2C%20%5B13.036%2C%2093.068%2C%202.0%5D%2C%20%5B-1.757%2C%20134.297%2C%208.0%5D%2C%20%5B18.77%2C%20-104.104%2C%2029.0%5D%2C%20%5B36.964%2C%203.634%2C%202287.0%5D%2C%20%5B36.939%2C%203.578%2C%209.0%5D%2C%20%5B41.815%2C%20143.91%2C%202.0%5D%2C%20%5B-8.152%2C%20124.868%2C%2034.0%5D%2C%20%5B15.679%2C%20-61.706%2C%201.0%5D%2C%20%5B3.316%2C%2095.854%2C%20227899.0%5D%2C%20%5B2.085%2C%2097.108%2C%201313.0%5D%2C%20%5B-3.595%2C%20127.214%2C%204.0%5D%2C%20%5B-9.254%2C%20107.411%2C%20802.0%5D%2C%20%5B21.799%2C%20120.547%2C%202.0%5D%2C%20%5B37.336%2C%20136.588%2C%201.0%5D%2C%20%5B-8.46%2C%20157.044%2C%2052.0%5D%2C%20%5B-45.285%2C%20-72.606%2C%2010.0%5D%2C%20%5B30.394%2C%20110.16%2C%208.0%5D%2C%20%5B37.57%2C%20138.478%2C%209.0%5D%2C%20%5B47.116%2C%20141.798%2C%202.0%5D%2C%20%5B-13.386%2C%20-76.603%2C%20514.0%5D%2C%20%5B-4.438%2C%20101.367%2C%2025.0%5D%2C%20%5B-22.247%2C%20-69.89%2C%202.0%5D%2C%20%5B31.002%2C%20103.322%2C%2087652.0%5D%2C%20%5B41.892%2C%20143.754%2C%206.0%5D%2C%20%5B1.271%2C%20122.091%2C%206.0%5D%2C%20%5B-0.414%2C%20132.885%2C%205.0%5D%2C%20%5B16.72%2C%20-86.236%2C%207.0%5D%2C%20%5B34.743%2C%20138.264%2C%201.0%5D%2C%20%5B-7.782%2C%20107.297%2C%2081.0%5D%2C%20%5B-15.489%2C%20-172.095%2C%20192.0%5D%2C%20%5B-0.72%2C%2099.867%2C%201117.0%5D%2C%20%5B18.457%2C%20-72.533%2C%20316000.0%5D%2C%20%5B-36.122%2C%20-72.898%2C%20558.0%5D%2C%20%5B-9.282%2C%20-77.645%2C%201.0%5D%2C%20%5B-3.487%2C%20100.082%2C%20431.0%5D%2C%20%5B-43.583%2C%20172.68%2C%20185.0%5D%2C%20%5B38.297%2C%20142.372%2C%2018429.0%5D%2C%20%5B38.276%2C%20141.588%2C%203.0%5D%2C%20%5B16.493%2C%20-98.231%2C%202.0%5D%2C%20%5B2.327%2C%2093.063%2C%2010.0%5D%2C%20%5B10.811%2C%20126.638%2C%201.0%5D%2C%20%5B10.085%2C%20-85.315%2C%202.0%5D%2C%20%5B52.788%2C%20-132.101%2C%201.0%5D%2C%20%5B13.988%2C%20-91.895%2C%2048.0%5D%2C%20%5B-10.766%2C%20165.114%2C%2010.0%5D%2C%20%5B25.18%2C%2062.26%2C%20825.0%5D%2C%20%5B-19.61%2C%20-70.769%2C%207.0%5D%2C%20%5B40.24%2C%2025.33%2C%203.0%5D%2C%20%5B12.526%2C%20-88.123%2C%201.0%5D%2C%20%5B31.077%2C%20109.896%2C%202.0%5D%2C%20%5B-31.573%2C%20-71.674%2C%2015.0%5D%2C%20%5B38.67%2C%2020.6%2C%202.0%5D%2C%20%5B35.649%2C%20-3.682%2C%201.0%5D%2C%20%5B0.35%2C%20-80.16%2C%20663.0%5D%2C%20%5B-42.737%2C%20173.054%2C%202.0%5D%2C%20%5B-10.681%2C%20161.327%2C%201.0%5D%2C%20%5B-6.246%2C%20155.172%2C%203.0%5D%2C%20%5B27.835%2C%2051.94%2C%205.0%5D%2C%20%5B38.93%2C%2026.365%2C%201.0%5D%2C%20%5B71.813%2C%20-52.569%2C%204.0%5D%2C%20%5B36.929%2C%2027.414%2C%202.0%5D%2C%20%5B14.761%2C%20-94.103%2C%2098.0%5D%2C%20%5B15.317%2C%20108.249%2C%201.0%5D%2C%20%5B-8.24%2C%20116.508%2C%2017.0%5D%2C%20%5B-8.258%2C%20116.438%2C%20560.0%5D%2C%20%5B-8.337%2C%20116.599%2C%202.0%5D%2C%20%5B10.773%2C%20-62.902%2C%205.0%5D%2C%20%5B-0.256%2C%20119.846%2C%204340.0%5D%2C%20%5B-6.102%2C%20105.423%2C%20437.0%5D%2C%20%5B1.6%2C%20126.416%2C%201.0%5D%2C%20%5B17.916%2C%20-66.813%2C%204.0%5D%2C%20%5B-8.058%2C%20114.242%2C%201.0%5D%2C%20%5B16.029%2C%20-95.901%2C%2010.0%5D%2C%20%5B37.918%2C%2026.79%2C%20118.0%5D%2C%20%5B6.455%2C%20126.742%2C%201.0%5D%2C%20%5B18.408%2C%20-73.475%2C%202248.0%5D%2C%20%5B16.982%2C%20-99.773%2C%203.0%5D%5D%2C%0A%20%20%20%20%20%20%20%20%20%20%20%20%20%20%20%20%7B%22blur%22%3A%2010%2C%20%22maxZoom%22%3A%2018%2C%20%22minOpacity%22%3A%201%2C%20%22radius%22%3A%2010%7D%0A%20%20%20%20%20%20%20%20%20%20%20%20%29.addTo%28map_596038a5d76948e696979d343f75ae92%29%3B%0A%20%20%20%20%20%20%20%20%0A%3C/script%3E onload=\"this.contentDocument.open();this.contentDocument.write(    decodeURIComponent(this.getAttribute('data-html')));this.contentDocument.close();\" allowfullscreen webkitallowfullscreen mozallowfullscreen></iframe></div></div>"
      ],
      "text/plain": [
       "<folium.folium.Map at 0x27853a0dac0>"
      ]
     },
     "execution_count": 38,
     "metadata": {},
     "output_type": "execute_result"
    }
   ],
   "source": [
    "folium_hmap.add_child(HeatMap(list_of_my_zip,\n",
    "                              min_opacity=1,\n",
    "                              radius = 10,\n",
    "                              blur = 10))"
   ]
  },
  {
   "cell_type": "markdown",
   "metadata": {},
   "source": [
    "## Correlations ##"
   ]
  },
  {
   "cell_type": "code",
   "execution_count": 39,
   "metadata": {},
   "outputs": [
    {
     "data": {
      "text/html": [
       "<div>\n",
       "<style scoped>\n",
       "    .dataframe tbody tr th:only-of-type {\n",
       "        vertical-align: middle;\n",
       "    }\n",
       "\n",
       "    .dataframe tbody tr th {\n",
       "        vertical-align: top;\n",
       "    }\n",
       "\n",
       "    .dataframe thead th {\n",
       "        text-align: right;\n",
       "    }\n",
       "</style>\n",
       "<table border=\"1\" class=\"dataframe\">\n",
       "  <thead>\n",
       "    <tr style=\"text-align: right;\">\n",
       "      <th></th>\n",
       "      <th>Earthquake Magnitude</th>\n",
       "      <th>Tsunami Intensity</th>\n",
       "      <th>Total Deaths</th>\n",
       "      <th>Maximum Water Height (m)</th>\n",
       "      <th>Tsunami Magnitude (Iida)</th>\n",
       "      <th>Total Missing</th>\n",
       "      <th>Total Injuries</th>\n",
       "      <th>Total Damage ($Mil)</th>\n",
       "      <th>Total Houses Destroyed</th>\n",
       "      <th>Total Houses Damaged</th>\n",
       "      <th>Earthquake Mayor/Great</th>\n",
       "    </tr>\n",
       "  </thead>\n",
       "  <tbody>\n",
       "    <tr>\n",
       "      <th>Earthquake Magnitude</th>\n",
       "      <td>1.000000</td>\n",
       "      <td>0.164317</td>\n",
       "      <td>0.106148</td>\n",
       "      <td>0.142619</td>\n",
       "      <td>0.377296</td>\n",
       "      <td>0.120641</td>\n",
       "      <td>0.065445</td>\n",
       "      <td>0.154152</td>\n",
       "      <td>0.088886</td>\n",
       "      <td>0.389748</td>\n",
       "      <td>0.777869</td>\n",
       "    </tr>\n",
       "    <tr>\n",
       "      <th>Tsunami Intensity</th>\n",
       "      <td>0.164317</td>\n",
       "      <td>1.000000</td>\n",
       "      <td>0.149765</td>\n",
       "      <td>0.254667</td>\n",
       "      <td>0.876318</td>\n",
       "      <td>0.486530</td>\n",
       "      <td>0.115912</td>\n",
       "      <td>-0.393702</td>\n",
       "      <td>0.074430</td>\n",
       "      <td>-0.031075</td>\n",
       "      <td>0.012606</td>\n",
       "    </tr>\n",
       "    <tr>\n",
       "      <th>Total Deaths</th>\n",
       "      <td>0.106148</td>\n",
       "      <td>0.149765</td>\n",
       "      <td>1.000000</td>\n",
       "      <td>0.031011</td>\n",
       "      <td>0.128100</td>\n",
       "      <td>0.999839</td>\n",
       "      <td>0.769643</td>\n",
       "      <td>0.106251</td>\n",
       "      <td>0.299189</td>\n",
       "      <td>0.270261</td>\n",
       "      <td>0.035511</td>\n",
       "    </tr>\n",
       "    <tr>\n",
       "      <th>Maximum Water Height (m)</th>\n",
       "      <td>0.142619</td>\n",
       "      <td>0.254667</td>\n",
       "      <td>0.031011</td>\n",
       "      <td>1.000000</td>\n",
       "      <td>0.302138</td>\n",
       "      <td>-0.085121</td>\n",
       "      <td>0.021245</td>\n",
       "      <td>0.034028</td>\n",
       "      <td>0.047185</td>\n",
       "      <td>0.247039</td>\n",
       "      <td>-0.017930</td>\n",
       "    </tr>\n",
       "    <tr>\n",
       "      <th>Tsunami Magnitude (Iida)</th>\n",
       "      <td>0.377296</td>\n",
       "      <td>0.876318</td>\n",
       "      <td>0.128100</td>\n",
       "      <td>0.302138</td>\n",
       "      <td>1.000000</td>\n",
       "      <td>-0.155133</td>\n",
       "      <td>0.019523</td>\n",
       "      <td>-0.296394</td>\n",
       "      <td>0.081605</td>\n",
       "      <td>-0.022351</td>\n",
       "      <td>0.143069</td>\n",
       "    </tr>\n",
       "    <tr>\n",
       "      <th>Total Missing</th>\n",
       "      <td>0.120641</td>\n",
       "      <td>0.486530</td>\n",
       "      <td>0.999839</td>\n",
       "      <td>-0.085121</td>\n",
       "      <td>-0.155133</td>\n",
       "      <td>1.000000</td>\n",
       "      <td>0.788468</td>\n",
       "      <td>-0.236856</td>\n",
       "      <td>0.997508</td>\n",
       "      <td>0.786731</td>\n",
       "      <td>0.189080</td>\n",
       "    </tr>\n",
       "    <tr>\n",
       "      <th>Total Injuries</th>\n",
       "      <td>0.065445</td>\n",
       "      <td>0.115912</td>\n",
       "      <td>0.769643</td>\n",
       "      <td>0.021245</td>\n",
       "      <td>0.019523</td>\n",
       "      <td>0.788468</td>\n",
       "      <td>1.000000</td>\n",
       "      <td>0.267049</td>\n",
       "      <td>0.761761</td>\n",
       "      <td>0.285936</td>\n",
       "      <td>0.041342</td>\n",
       "    </tr>\n",
       "    <tr>\n",
       "      <th>Total Damage ($Mil)</th>\n",
       "      <td>0.154152</td>\n",
       "      <td>-0.393702</td>\n",
       "      <td>0.106251</td>\n",
       "      <td>0.034028</td>\n",
       "      <td>-0.296394</td>\n",
       "      <td>-0.236856</td>\n",
       "      <td>0.267049</td>\n",
       "      <td>1.000000</td>\n",
       "      <td>0.332118</td>\n",
       "      <td>0.468655</td>\n",
       "      <td>0.016019</td>\n",
       "    </tr>\n",
       "    <tr>\n",
       "      <th>Total Houses Destroyed</th>\n",
       "      <td>0.088886</td>\n",
       "      <td>0.074430</td>\n",
       "      <td>0.299189</td>\n",
       "      <td>0.047185</td>\n",
       "      <td>0.081605</td>\n",
       "      <td>0.997508</td>\n",
       "      <td>0.761761</td>\n",
       "      <td>0.332118</td>\n",
       "      <td>1.000000</td>\n",
       "      <td>0.895153</td>\n",
       "      <td>0.078974</td>\n",
       "    </tr>\n",
       "    <tr>\n",
       "      <th>Total Houses Damaged</th>\n",
       "      <td>0.389748</td>\n",
       "      <td>-0.031075</td>\n",
       "      <td>0.270261</td>\n",
       "      <td>0.247039</td>\n",
       "      <td>-0.022351</td>\n",
       "      <td>0.786731</td>\n",
       "      <td>0.285936</td>\n",
       "      <td>0.468655</td>\n",
       "      <td>0.895153</td>\n",
       "      <td>1.000000</td>\n",
       "      <td>0.125294</td>\n",
       "    </tr>\n",
       "    <tr>\n",
       "      <th>Earthquake Mayor/Great</th>\n",
       "      <td>0.777869</td>\n",
       "      <td>0.012606</td>\n",
       "      <td>0.035511</td>\n",
       "      <td>-0.017930</td>\n",
       "      <td>0.143069</td>\n",
       "      <td>0.189080</td>\n",
       "      <td>0.041342</td>\n",
       "      <td>0.016019</td>\n",
       "      <td>0.078974</td>\n",
       "      <td>0.125294</td>\n",
       "      <td>1.000000</td>\n",
       "    </tr>\n",
       "  </tbody>\n",
       "</table>\n",
       "</div>"
      ],
      "text/plain": [
       "                          Earthquake Magnitude  Tsunami Intensity  \\\n",
       "Earthquake Magnitude                  1.000000           0.164317   \n",
       "Tsunami Intensity                     0.164317           1.000000   \n",
       "Total Deaths                          0.106148           0.149765   \n",
       "Maximum Water Height (m)              0.142619           0.254667   \n",
       "Tsunami Magnitude (Iida)              0.377296           0.876318   \n",
       "Total Missing                         0.120641           0.486530   \n",
       "Total Injuries                        0.065445           0.115912   \n",
       "Total Damage ($Mil)                   0.154152          -0.393702   \n",
       "Total Houses Destroyed                0.088886           0.074430   \n",
       "Total Houses Damaged                  0.389748          -0.031075   \n",
       "Earthquake Mayor/Great                0.777869           0.012606   \n",
       "\n",
       "                          Total Deaths  Maximum Water Height (m)  \\\n",
       "Earthquake Magnitude          0.106148                  0.142619   \n",
       "Tsunami Intensity             0.149765                  0.254667   \n",
       "Total Deaths                  1.000000                  0.031011   \n",
       "Maximum Water Height (m)      0.031011                  1.000000   \n",
       "Tsunami Magnitude (Iida)      0.128100                  0.302138   \n",
       "Total Missing                 0.999839                 -0.085121   \n",
       "Total Injuries                0.769643                  0.021245   \n",
       "Total Damage ($Mil)           0.106251                  0.034028   \n",
       "Total Houses Destroyed        0.299189                  0.047185   \n",
       "Total Houses Damaged          0.270261                  0.247039   \n",
       "Earthquake Mayor/Great        0.035511                 -0.017930   \n",
       "\n",
       "                          Tsunami Magnitude (Iida)  Total Missing  \\\n",
       "Earthquake Magnitude                      0.377296       0.120641   \n",
       "Tsunami Intensity                         0.876318       0.486530   \n",
       "Total Deaths                              0.128100       0.999839   \n",
       "Maximum Water Height (m)                  0.302138      -0.085121   \n",
       "Tsunami Magnitude (Iida)                  1.000000      -0.155133   \n",
       "Total Missing                            -0.155133       1.000000   \n",
       "Total Injuries                            0.019523       0.788468   \n",
       "Total Damage ($Mil)                      -0.296394      -0.236856   \n",
       "Total Houses Destroyed                    0.081605       0.997508   \n",
       "Total Houses Damaged                     -0.022351       0.786731   \n",
       "Earthquake Mayor/Great                    0.143069       0.189080   \n",
       "\n",
       "                          Total Injuries  Total Damage ($Mil)  \\\n",
       "Earthquake Magnitude            0.065445             0.154152   \n",
       "Tsunami Intensity               0.115912            -0.393702   \n",
       "Total Deaths                    0.769643             0.106251   \n",
       "Maximum Water Height (m)        0.021245             0.034028   \n",
       "Tsunami Magnitude (Iida)        0.019523            -0.296394   \n",
       "Total Missing                   0.788468            -0.236856   \n",
       "Total Injuries                  1.000000             0.267049   \n",
       "Total Damage ($Mil)             0.267049             1.000000   \n",
       "Total Houses Destroyed          0.761761             0.332118   \n",
       "Total Houses Damaged            0.285936             0.468655   \n",
       "Earthquake Mayor/Great          0.041342             0.016019   \n",
       "\n",
       "                          Total Houses Destroyed  Total Houses Damaged  \\\n",
       "Earthquake Magnitude                    0.088886              0.389748   \n",
       "Tsunami Intensity                       0.074430             -0.031075   \n",
       "Total Deaths                            0.299189              0.270261   \n",
       "Maximum Water Height (m)                0.047185              0.247039   \n",
       "Tsunami Magnitude (Iida)                0.081605             -0.022351   \n",
       "Total Missing                           0.997508              0.786731   \n",
       "Total Injuries                          0.761761              0.285936   \n",
       "Total Damage ($Mil)                     0.332118              0.468655   \n",
       "Total Houses Destroyed                  1.000000              0.895153   \n",
       "Total Houses Damaged                    0.895153              1.000000   \n",
       "Earthquake Mayor/Great                  0.078974              0.125294   \n",
       "\n",
       "                          Earthquake Mayor/Great  \n",
       "Earthquake Magnitude                    0.777869  \n",
       "Tsunami Intensity                       0.012606  \n",
       "Total Deaths                            0.035511  \n",
       "Maximum Water Height (m)               -0.017930  \n",
       "Tsunami Magnitude (Iida)                0.143069  \n",
       "Total Missing                           0.189080  \n",
       "Total Injuries                          0.041342  \n",
       "Total Damage ($Mil)                     0.016019  \n",
       "Total Houses Destroyed                  0.078974  \n",
       "Total Houses Damaged                    0.125294  \n",
       "Earthquake Mayor/Great                  1.000000  "
      ]
     },
     "execution_count": 39,
     "metadata": {},
     "output_type": "execute_result"
    }
   ],
   "source": [
    "tsunamis[['Earthquake Magnitude','Tsunami Intensity','Total Deaths','Maximum Water Height (m)','Tsunami Magnitude (Iida)','Total Missing','Total Injuries','Total Damage ($Mil)','Total Houses Destroyed','Total Houses Damaged','Earthquake Mayor/Great']].corr()"
   ]
  },
  {
   "cell_type": "markdown",
   "metadata": {},
   "source": [
    "## Clasification"
   ]
  },
  {
   "cell_type": "code",
   "execution_count": 40,
   "metadata": {},
   "outputs": [],
   "source": [
    "temp2 = tsunamis.dropna(subset=['Tsunami Magnitude (Iida)','Total Deaths','Earthquake Magnitude'])"
   ]
  },
  {
   "cell_type": "code",
   "execution_count": 41,
   "metadata": {},
   "outputs": [],
   "source": [
    "y=temp2['Earthquake Mayor/Great']\n",
    "x=temp2[['Tsunami Magnitude (Iida)','Total Deaths','Earthquake Magnitude']]"
   ]
  },
  {
   "cell_type": "code",
   "execution_count": 42,
   "metadata": {},
   "outputs": [],
   "source": [
    "#split the data in order to test it (in this case train it in 60% and test it on 40%):\n",
    "\n",
    "from sklearn.model_selection import train_test_split\n",
    "X_train, X_test, y_train, y_test = train_test_split(x,y, test_size=0.4)"
   ]
  },
  {
   "cell_type": "code",
   "execution_count": 43,
   "metadata": {},
   "outputs": [
    {
     "data": {
      "text/html": [
       "<div>\n",
       "<style scoped>\n",
       "    .dataframe tbody tr th:only-of-type {\n",
       "        vertical-align: middle;\n",
       "    }\n",
       "\n",
       "    .dataframe tbody tr th {\n",
       "        vertical-align: top;\n",
       "    }\n",
       "\n",
       "    .dataframe thead th {\n",
       "        text-align: right;\n",
       "    }\n",
       "</style>\n",
       "<table border=\"1\" class=\"dataframe\">\n",
       "  <thead>\n",
       "    <tr style=\"text-align: right;\">\n",
       "      <th></th>\n",
       "      <th>Tsunami Magnitude (Iida)</th>\n",
       "      <th>Total Deaths</th>\n",
       "      <th>Earthquake Magnitude</th>\n",
       "    </tr>\n",
       "  </thead>\n",
       "  <tbody>\n",
       "    <tr>\n",
       "      <th>1720</th>\n",
       "      <td>-3.3</td>\n",
       "      <td>2.0</td>\n",
       "      <td>6.7</td>\n",
       "    </tr>\n",
       "    <tr>\n",
       "      <th>844</th>\n",
       "      <td>1.0</td>\n",
       "      <td>1000.0</td>\n",
       "      <td>8.8</td>\n",
       "    </tr>\n",
       "    <tr>\n",
       "      <th>1462</th>\n",
       "      <td>-2.3</td>\n",
       "      <td>15.0</td>\n",
       "      <td>7.3</td>\n",
       "    </tr>\n",
       "    <tr>\n",
       "      <th>926</th>\n",
       "      <td>1.6</td>\n",
       "      <td>63.0</td>\n",
       "      <td>7.1</td>\n",
       "    </tr>\n",
       "    <tr>\n",
       "      <th>72</th>\n",
       "      <td>4.0</td>\n",
       "      <td>500.0</td>\n",
       "      <td>7.5</td>\n",
       "    </tr>\n",
       "    <tr>\n",
       "      <th>...</th>\n",
       "      <td>...</td>\n",
       "      <td>...</td>\n",
       "      <td>...</td>\n",
       "    </tr>\n",
       "    <tr>\n",
       "      <th>431</th>\n",
       "      <td>2.0</td>\n",
       "      <td>580.0</td>\n",
       "      <td>7.0</td>\n",
       "    </tr>\n",
       "    <tr>\n",
       "      <th>1371</th>\n",
       "      <td>1.0</td>\n",
       "      <td>7.0</td>\n",
       "      <td>6.4</td>\n",
       "    </tr>\n",
       "    <tr>\n",
       "      <th>1479</th>\n",
       "      <td>2.7</td>\n",
       "      <td>26.0</td>\n",
       "      <td>7.5</td>\n",
       "    </tr>\n",
       "    <tr>\n",
       "      <th>1080</th>\n",
       "      <td>0.4</td>\n",
       "      <td>3022.0</td>\n",
       "      <td>7.6</td>\n",
       "    </tr>\n",
       "    <tr>\n",
       "      <th>1282</th>\n",
       "      <td>-1.3</td>\n",
       "      <td>2.0</td>\n",
       "      <td>7.3</td>\n",
       "    </tr>\n",
       "  </tbody>\n",
       "</table>\n",
       "<p>114 rows × 3 columns</p>\n",
       "</div>"
      ],
      "text/plain": [
       "      Tsunami Magnitude (Iida)  Total Deaths  Earthquake Magnitude\n",
       "1720                      -3.3           2.0                   6.7\n",
       "844                        1.0        1000.0                   8.8\n",
       "1462                      -2.3          15.0                   7.3\n",
       "926                        1.6          63.0                   7.1\n",
       "72                         4.0         500.0                   7.5\n",
       "...                        ...           ...                   ...\n",
       "431                        2.0         580.0                   7.0\n",
       "1371                       1.0           7.0                   6.4\n",
       "1479                       2.7          26.0                   7.5\n",
       "1080                       0.4        3022.0                   7.6\n",
       "1282                      -1.3           2.0                   7.3\n",
       "\n",
       "[114 rows x 3 columns]"
      ]
     },
     "execution_count": 43,
     "metadata": {},
     "output_type": "execute_result"
    }
   ],
   "source": [
    "X_train"
   ]
  },
  {
   "cell_type": "code",
   "execution_count": 44,
   "metadata": {},
   "outputs": [],
   "source": [
    "losses = {}"
   ]
  },
  {
   "cell_type": "code",
   "execution_count": 45,
   "metadata": {},
   "outputs": [],
   "source": [
    "from sklearn.linear_model import LogisticRegression\n",
    "\n",
    "lr = LogisticRegression()"
   ]
  },
  {
   "cell_type": "code",
   "execution_count": 46,
   "metadata": {},
   "outputs": [
    {
     "name": "stderr",
     "output_type": "stream",
     "text": [
      "C:\\Users\\imypo\\anaconda3\\lib\\site-packages\\sklearn\\linear_model\\_logistic.py:763: ConvergenceWarning: lbfgs failed to converge (status=1):\n",
      "STOP: TOTAL NO. of ITERATIONS REACHED LIMIT.\n",
      "\n",
      "Increase the number of iterations (max_iter) or scale the data as shown in:\n",
      "    https://scikit-learn.org/stable/modules/preprocessing.html\n",
      "Please also refer to the documentation for alternative solver options:\n",
      "    https://scikit-learn.org/stable/modules/linear_model.html#logistic-regression\n",
      "  n_iter_i = _check_optimize_result(\n"
     ]
    },
    {
     "data": {
      "text/plain": [
       "LogisticRegression()"
      ]
     },
     "execution_count": 46,
     "metadata": {},
     "output_type": "execute_result"
    }
   ],
   "source": [
    "lr.fit(X_train, y_train)"
   ]
  },
  {
   "cell_type": "code",
   "execution_count": 47,
   "metadata": {},
   "outputs": [
    {
     "data": {
      "text/plain": [
       "array([0.98861562, 0.2449278 , 0.88550057, 0.1293438 , 0.99448408,\n",
       "       0.53116939, 0.7573808 , 0.99985811, 0.96543297, 0.9968396 ,\n",
       "       0.82481342, 0.99956264, 0.8985961 , 0.34029788, 0.99009487,\n",
       "       0.85502556, 0.21397783, 0.94950248, 0.96981747, 0.41965057,\n",
       "       0.94513922, 0.92314653, 0.70992997, 0.78184607, 0.93650204,\n",
       "       0.9829899 , 0.95983355, 0.54005548, 0.9060874 , 0.28299923,\n",
       "       0.91352119, 0.14953938, 0.09732118, 0.98925094, 0.99787622,\n",
       "       0.47020679, 0.98384186, 0.40935339, 0.69110285, 0.43645057,\n",
       "       0.71804727, 0.82529252, 0.47019099, 0.98313696, 0.96925009,\n",
       "       0.99743484, 0.99201767, 0.73373397, 0.69107577, 0.47836295,\n",
       "       0.91741489, 0.99133977, 0.16348707, 0.99328234, 0.43136306,\n",
       "       0.99701302, 0.05699215, 0.94808273, 0.99658032, 0.6979887 ,\n",
       "       0.96659585, 0.99907469, 0.68708401, 0.54949995, 0.86984471,\n",
       "       0.54553655, 0.63479268, 0.97841611, 0.97448709, 0.98470703,\n",
       "       0.05535435, 0.47091784, 0.98336533, 0.86572802, 0.88606738,\n",
       "       0.82892248, 0.58663346])"
      ]
     },
     "execution_count": 47,
     "metadata": {},
     "output_type": "execute_result"
    }
   ],
   "source": [
    "lr.predict_proba(X_test)[:,1]"
   ]
  },
  {
   "cell_type": "code",
   "execution_count": 48,
   "metadata": {},
   "outputs": [
    {
     "data": {
      "text/plain": [
       "array([1, 0, 1, 0, 1, 1, 1, 1, 1, 1, 1, 1, 1, 0, 1, 1, 0, 1, 1, 0, 1, 1,\n",
       "       1, 1, 1, 1, 1, 1, 1, 0, 1, 0, 0, 1, 1, 0, 1, 0, 1, 0, 1, 1, 0, 1,\n",
       "       1, 1, 1, 1, 1, 0, 1, 1, 0, 1, 0, 1, 0, 1, 1, 1, 1, 1, 1, 1, 1, 1,\n",
       "       1, 1, 1, 1, 0, 0, 1, 1, 1, 1, 1], dtype=int64)"
      ]
     },
     "execution_count": 48,
     "metadata": {},
     "output_type": "execute_result"
    }
   ],
   "source": [
    "lr.predict(X_test)"
   ]
  },
  {
   "cell_type": "code",
   "execution_count": 49,
   "metadata": {},
   "outputs": [
    {
     "data": {
      "text/plain": [
       "1796    1\n",
       "1091    0\n",
       "1230    1\n",
       "1783    0\n",
       "544     1\n",
       "       ..\n",
       "862     1\n",
       "1026    1\n",
       "429     1\n",
       "509     1\n",
       "326     0\n",
       "Name: Earthquake Mayor/Great, Length: 77, dtype: int64"
      ]
     },
     "execution_count": 49,
     "metadata": {},
     "output_type": "execute_result"
    }
   ],
   "source": [
    "y_test"
   ]
  },
  {
   "cell_type": "code",
   "execution_count": 50,
   "metadata": {},
   "outputs": [
    {
     "data": {
      "text/html": [
       "<div>\n",
       "<style scoped>\n",
       "    .dataframe tbody tr th:only-of-type {\n",
       "        vertical-align: middle;\n",
       "    }\n",
       "\n",
       "    .dataframe tbody tr th {\n",
       "        vertical-align: top;\n",
       "    }\n",
       "\n",
       "    .dataframe thead th {\n",
       "        text-align: right;\n",
       "    }\n",
       "</style>\n",
       "<table border=\"1\" class=\"dataframe\">\n",
       "  <thead>\n",
       "    <tr style=\"text-align: right;\">\n",
       "      <th></th>\n",
       "      <th>predicted_brob</th>\n",
       "      <th>actual</th>\n",
       "      <th>predicted</th>\n",
       "    </tr>\n",
       "  </thead>\n",
       "  <tbody>\n",
       "    <tr>\n",
       "      <th>1796</th>\n",
       "      <td>0.988616</td>\n",
       "      <td>1</td>\n",
       "      <td>1</td>\n",
       "    </tr>\n",
       "    <tr>\n",
       "      <th>1091</th>\n",
       "      <td>0.244928</td>\n",
       "      <td>0</td>\n",
       "      <td>0</td>\n",
       "    </tr>\n",
       "    <tr>\n",
       "      <th>1230</th>\n",
       "      <td>0.885501</td>\n",
       "      <td>1</td>\n",
       "      <td>1</td>\n",
       "    </tr>\n",
       "    <tr>\n",
       "      <th>1783</th>\n",
       "      <td>0.129344</td>\n",
       "      <td>0</td>\n",
       "      <td>0</td>\n",
       "    </tr>\n",
       "    <tr>\n",
       "      <th>544</th>\n",
       "      <td>0.994484</td>\n",
       "      <td>1</td>\n",
       "      <td>1</td>\n",
       "    </tr>\n",
       "    <tr>\n",
       "      <th>...</th>\n",
       "      <td>...</td>\n",
       "      <td>...</td>\n",
       "      <td>...</td>\n",
       "    </tr>\n",
       "    <tr>\n",
       "      <th>862</th>\n",
       "      <td>0.983365</td>\n",
       "      <td>1</td>\n",
       "      <td>1</td>\n",
       "    </tr>\n",
       "    <tr>\n",
       "      <th>1026</th>\n",
       "      <td>0.865728</td>\n",
       "      <td>1</td>\n",
       "      <td>1</td>\n",
       "    </tr>\n",
       "    <tr>\n",
       "      <th>429</th>\n",
       "      <td>0.886067</td>\n",
       "      <td>1</td>\n",
       "      <td>1</td>\n",
       "    </tr>\n",
       "    <tr>\n",
       "      <th>509</th>\n",
       "      <td>0.828922</td>\n",
       "      <td>1</td>\n",
       "      <td>1</td>\n",
       "    </tr>\n",
       "    <tr>\n",
       "      <th>326</th>\n",
       "      <td>0.586633</td>\n",
       "      <td>0</td>\n",
       "      <td>1</td>\n",
       "    </tr>\n",
       "  </tbody>\n",
       "</table>\n",
       "<p>77 rows × 3 columns</p>\n",
       "</div>"
      ],
      "text/plain": [
       "      predicted_brob  actual  predicted\n",
       "1796        0.988616       1          1\n",
       "1091        0.244928       0          0\n",
       "1230        0.885501       1          1\n",
       "1783        0.129344       0          0\n",
       "544         0.994484       1          1\n",
       "...              ...     ...        ...\n",
       "862         0.983365       1          1\n",
       "1026        0.865728       1          1\n",
       "429         0.886067       1          1\n",
       "509         0.828922       1          1\n",
       "326         0.586633       0          1\n",
       "\n",
       "[77 rows x 3 columns]"
      ]
     },
     "execution_count": 50,
     "metadata": {},
     "output_type": "execute_result"
    }
   ],
   "source": [
    "test_result = pd.DataFrame({'predicted_brob': lr.predict_proba(X_test)[:,1],'actual':y_test,'predicted':lr.predict(X_test)})\n",
    "test_result"
   ]
  },
  {
   "cell_type": "code",
   "execution_count": 51,
   "metadata": {},
   "outputs": [
    {
     "data": {
      "text/html": [
       "<div>\n",
       "<style scoped>\n",
       "    .dataframe tbody tr th:only-of-type {\n",
       "        vertical-align: middle;\n",
       "    }\n",
       "\n",
       "    .dataframe tbody tr th {\n",
       "        vertical-align: top;\n",
       "    }\n",
       "\n",
       "    .dataframe thead th {\n",
       "        text-align: right;\n",
       "    }\n",
       "</style>\n",
       "<table border=\"1\" class=\"dataframe\">\n",
       "  <thead>\n",
       "    <tr style=\"text-align: right;\">\n",
       "      <th></th>\n",
       "      <th>predicted_brob</th>\n",
       "      <th>actual</th>\n",
       "      <th>predicted</th>\n",
       "      <th>correctly predicted</th>\n",
       "    </tr>\n",
       "  </thead>\n",
       "  <tbody>\n",
       "    <tr>\n",
       "      <th>1796</th>\n",
       "      <td>0.988616</td>\n",
       "      <td>1</td>\n",
       "      <td>1</td>\n",
       "      <td>True</td>\n",
       "    </tr>\n",
       "    <tr>\n",
       "      <th>1091</th>\n",
       "      <td>0.244928</td>\n",
       "      <td>0</td>\n",
       "      <td>0</td>\n",
       "      <td>True</td>\n",
       "    </tr>\n",
       "    <tr>\n",
       "      <th>1230</th>\n",
       "      <td>0.885501</td>\n",
       "      <td>1</td>\n",
       "      <td>1</td>\n",
       "      <td>True</td>\n",
       "    </tr>\n",
       "    <tr>\n",
       "      <th>1783</th>\n",
       "      <td>0.129344</td>\n",
       "      <td>0</td>\n",
       "      <td>0</td>\n",
       "      <td>True</td>\n",
       "    </tr>\n",
       "    <tr>\n",
       "      <th>544</th>\n",
       "      <td>0.994484</td>\n",
       "      <td>1</td>\n",
       "      <td>1</td>\n",
       "      <td>True</td>\n",
       "    </tr>\n",
       "    <tr>\n",
       "      <th>...</th>\n",
       "      <td>...</td>\n",
       "      <td>...</td>\n",
       "      <td>...</td>\n",
       "      <td>...</td>\n",
       "    </tr>\n",
       "    <tr>\n",
       "      <th>862</th>\n",
       "      <td>0.983365</td>\n",
       "      <td>1</td>\n",
       "      <td>1</td>\n",
       "      <td>True</td>\n",
       "    </tr>\n",
       "    <tr>\n",
       "      <th>1026</th>\n",
       "      <td>0.865728</td>\n",
       "      <td>1</td>\n",
       "      <td>1</td>\n",
       "      <td>True</td>\n",
       "    </tr>\n",
       "    <tr>\n",
       "      <th>429</th>\n",
       "      <td>0.886067</td>\n",
       "      <td>1</td>\n",
       "      <td>1</td>\n",
       "      <td>True</td>\n",
       "    </tr>\n",
       "    <tr>\n",
       "      <th>509</th>\n",
       "      <td>0.828922</td>\n",
       "      <td>1</td>\n",
       "      <td>1</td>\n",
       "      <td>True</td>\n",
       "    </tr>\n",
       "    <tr>\n",
       "      <th>326</th>\n",
       "      <td>0.586633</td>\n",
       "      <td>0</td>\n",
       "      <td>1</td>\n",
       "      <td>False</td>\n",
       "    </tr>\n",
       "  </tbody>\n",
       "</table>\n",
       "<p>77 rows × 4 columns</p>\n",
       "</div>"
      ],
      "text/plain": [
       "      predicted_brob  actual  predicted  correctly predicted\n",
       "1796        0.988616       1          1                 True\n",
       "1091        0.244928       0          0                 True\n",
       "1230        0.885501       1          1                 True\n",
       "1783        0.129344       0          0                 True\n",
       "544         0.994484       1          1                 True\n",
       "...              ...     ...        ...                  ...\n",
       "862         0.983365       1          1                 True\n",
       "1026        0.865728       1          1                 True\n",
       "429         0.886067       1          1                 True\n",
       "509         0.828922       1          1                 True\n",
       "326         0.586633       0          1                False\n",
       "\n",
       "[77 rows x 4 columns]"
      ]
     },
     "execution_count": 51,
     "metadata": {},
     "output_type": "execute_result"
    }
   ],
   "source": [
    "test_result['correctly predicted']=(test_result['actual']==test_result['predicted'])\n",
    "test_result"
   ]
  },
  {
   "cell_type": "code",
   "execution_count": 52,
   "metadata": {},
   "outputs": [
    {
     "data": {
      "text/plain": [
       "True     0.948052\n",
       "False    0.051948\n",
       "Name: correctly predicted, dtype: float64"
      ]
     },
     "execution_count": 52,
     "metadata": {},
     "output_type": "execute_result"
    }
   ],
   "source": [
    "test_result['correctly predicted'].value_counts(normalize=True)"
   ]
  },
  {
   "cell_type": "markdown",
   "metadata": {},
   "source": [
    "**Accuracy Score**"
   ]
  },
  {
   "cell_type": "markdown",
   "metadata": {},
   "source": [
    "Accuracy Score: accuracy of my predictions is 98.7%"
   ]
  },
  {
   "cell_type": "code",
   "execution_count": 53,
   "metadata": {},
   "outputs": [
    {
     "name": "stdout",
     "output_type": "stream",
     "text": [
      "{'Logistic': 0.948051948051948}\n"
     ]
    }
   ],
   "source": [
    "from sklearn.metrics import accuracy_score\n",
    "losses['Logistic'] = accuracy_score(y_test, lr.predict(X_test))\n",
    "print(losses)"
   ]
  },
  {
   "cell_type": "markdown",
   "metadata": {},
   "source": [
    "## Linear Regression ##"
   ]
  },
  {
   "cell_type": "code",
   "execution_count": 54,
   "metadata": {},
   "outputs": [
    {
     "data": {
      "text/plain": [
       "Text(0.5, 0, 'Tsunami Magnitude (Iida)')"
      ]
     },
     "execution_count": 54,
     "metadata": {},
     "output_type": "execute_result"
    },
    {
     "data": {
      "image/png": "[encoded data removed]",
      "text/plain": [
       "<Figure size 432x288 with 1 Axes>"
      ]
     },
     "metadata": {
      "needs_background": "light"
     },
     "output_type": "display_data"
    }
   ],
   "source": [
    "plt.scatter(tsunamis['Tsunami Magnitude (Iida)'], tsunamis['Tsunami Intensity'])\n",
    "plt.ylabel('Tsunami Intensity')\n",
    "plt.xlabel('Tsunami Magnitude (Iida)')\n"
   ]
  },
  {
   "cell_type": "code",
   "execution_count": 55,
   "metadata": {},
   "outputs": [],
   "source": [
    "temp = tsunamis.dropna(subset=['Tsunami Magnitude (Iida)','Tsunami Intensity'])\n"
   ]
  },
  {
   "cell_type": "code",
   "execution_count": 56,
   "metadata": {},
   "outputs": [],
   "source": [
    "\n",
    "x=temp[['Tsunami Magnitude (Iida)']]\n",
    "y=temp['Tsunami Intensity']"
   ]
  },
  {
   "cell_type": "code",
   "execution_count": 57,
   "metadata": {},
   "outputs": [],
   "source": [
    "#split the data in order to test it (in this case train it in 60% and test it on 40%):\n",
    "\n",
    "from sklearn.model_selection import train_test_split\n",
    "X_train, X_test, y_train, y_test = train_test_split(x, y, test_size=0.4, shuffle=True)\n"
   ]
  },
  {
   "cell_type": "code",
   "execution_count": 58,
   "metadata": {},
   "outputs": [
    {
     "data": {
      "text/html": [
       "<div>\n",
       "<style scoped>\n",
       "    .dataframe tbody tr th:only-of-type {\n",
       "        vertical-align: middle;\n",
       "    }\n",
       "\n",
       "    .dataframe tbody tr th {\n",
       "        vertical-align: top;\n",
       "    }\n",
       "\n",
       "    .dataframe thead th {\n",
       "        text-align: right;\n",
       "    }\n",
       "</style>\n",
       "<table border=\"1\" class=\"dataframe\">\n",
       "  <thead>\n",
       "    <tr style=\"text-align: right;\">\n",
       "      <th></th>\n",
       "      <th>Tsunami Magnitude (Iida)</th>\n",
       "    </tr>\n",
       "  </thead>\n",
       "  <tbody>\n",
       "    <tr>\n",
       "      <th>1178</th>\n",
       "      <td>0.5</td>\n",
       "    </tr>\n",
       "    <tr>\n",
       "      <th>1462</th>\n",
       "      <td>-2.3</td>\n",
       "    </tr>\n",
       "    <tr>\n",
       "      <th>1766</th>\n",
       "      <td>0.8</td>\n",
       "    </tr>\n",
       "    <tr>\n",
       "      <th>773</th>\n",
       "      <td>1.0</td>\n",
       "    </tr>\n",
       "    <tr>\n",
       "      <th>334</th>\n",
       "      <td>1.0</td>\n",
       "    </tr>\n",
       "    <tr>\n",
       "      <th>...</th>\n",
       "      <td>...</td>\n",
       "    </tr>\n",
       "    <tr>\n",
       "      <th>1685</th>\n",
       "      <td>1.6</td>\n",
       "    </tr>\n",
       "    <tr>\n",
       "      <th>1236</th>\n",
       "      <td>-0.5</td>\n",
       "    </tr>\n",
       "    <tr>\n",
       "      <th>1840</th>\n",
       "      <td>-2.3</td>\n",
       "    </tr>\n",
       "    <tr>\n",
       "      <th>742</th>\n",
       "      <td>1.5</td>\n",
       "    </tr>\n",
       "    <tr>\n",
       "      <th>787</th>\n",
       "      <td>2.3</td>\n",
       "    </tr>\n",
       "  </tbody>\n",
       "</table>\n",
       "<p>257 rows × 1 columns</p>\n",
       "</div>"
      ],
      "text/plain": [
       "      Tsunami Magnitude (Iida)\n",
       "1178                       0.5\n",
       "1462                      -2.3\n",
       "1766                       0.8\n",
       "773                        1.0\n",
       "334                        1.0\n",
       "...                        ...\n",
       "1685                       1.6\n",
       "1236                      -0.5\n",
       "1840                      -2.3\n",
       "742                        1.5\n",
       "787                        2.3\n",
       "\n",
       "[257 rows x 1 columns]"
      ]
     },
     "execution_count": 58,
     "metadata": {},
     "output_type": "execute_result"
    }
   ],
   "source": [
    "X_train"
   ]
  },
  {
   "cell_type": "code",
   "execution_count": 59,
   "metadata": {},
   "outputs": [
    {
     "data": {
      "text/html": [
       "<div>\n",
       "<style scoped>\n",
       "    .dataframe tbody tr th:only-of-type {\n",
       "        vertical-align: middle;\n",
       "    }\n",
       "\n",
       "    .dataframe tbody tr th {\n",
       "        vertical-align: top;\n",
       "    }\n",
       "\n",
       "    .dataframe thead th {\n",
       "        text-align: right;\n",
       "    }\n",
       "</style>\n",
       "<table border=\"1\" class=\"dataframe\">\n",
       "  <thead>\n",
       "    <tr style=\"text-align: right;\">\n",
       "      <th></th>\n",
       "      <th>Tsunami Magnitude (Iida)</th>\n",
       "      <th>Tsunami Intensity</th>\n",
       "    </tr>\n",
       "  </thead>\n",
       "  <tbody>\n",
       "    <tr>\n",
       "      <th>1178</th>\n",
       "      <td>0.5</td>\n",
       "      <td>1.0</td>\n",
       "    </tr>\n",
       "    <tr>\n",
       "      <th>1462</th>\n",
       "      <td>-2.3</td>\n",
       "      <td>-2.0</td>\n",
       "    </tr>\n",
       "    <tr>\n",
       "      <th>1766</th>\n",
       "      <td>0.8</td>\n",
       "      <td>0.5</td>\n",
       "    </tr>\n",
       "    <tr>\n",
       "      <th>773</th>\n",
       "      <td>1.0</td>\n",
       "      <td>1.5</td>\n",
       "    </tr>\n",
       "    <tr>\n",
       "      <th>334</th>\n",
       "      <td>1.0</td>\n",
       "      <td>1.0</td>\n",
       "    </tr>\n",
       "    <tr>\n",
       "      <th>...</th>\n",
       "      <td>...</td>\n",
       "      <td>...</td>\n",
       "    </tr>\n",
       "    <tr>\n",
       "      <th>1685</th>\n",
       "      <td>1.6</td>\n",
       "      <td>1.5</td>\n",
       "    </tr>\n",
       "    <tr>\n",
       "      <th>1236</th>\n",
       "      <td>-0.5</td>\n",
       "      <td>-1.5</td>\n",
       "    </tr>\n",
       "    <tr>\n",
       "      <th>1840</th>\n",
       "      <td>-2.3</td>\n",
       "      <td>-2.0</td>\n",
       "    </tr>\n",
       "    <tr>\n",
       "      <th>742</th>\n",
       "      <td>1.5</td>\n",
       "      <td>1.0</td>\n",
       "    </tr>\n",
       "    <tr>\n",
       "      <th>787</th>\n",
       "      <td>2.3</td>\n",
       "      <td>2.0</td>\n",
       "    </tr>\n",
       "  </tbody>\n",
       "</table>\n",
       "<p>257 rows × 2 columns</p>\n",
       "</div>"
      ],
      "text/plain": [
       "      Tsunami Magnitude (Iida)  Tsunami Intensity\n",
       "1178                       0.5                1.0\n",
       "1462                      -2.3               -2.0\n",
       "1766                       0.8                0.5\n",
       "773                        1.0                1.5\n",
       "334                        1.0                1.0\n",
       "...                        ...                ...\n",
       "1685                       1.6                1.5\n",
       "1236                      -0.5               -1.5\n",
       "1840                      -2.3               -2.0\n",
       "742                        1.5                1.0\n",
       "787                        2.3                2.0\n",
       "\n",
       "[257 rows x 2 columns]"
      ]
     },
     "execution_count": 59,
     "metadata": {},
     "output_type": "execute_result"
    }
   ],
   "source": [
    "pd.concat([X_train,y_train],axis=1)\n"
   ]
  },
  {
   "cell_type": "code",
   "execution_count": 60,
   "metadata": {},
   "outputs": [
    {
     "data": {
      "text/html": [
       "<div>\n",
       "<style scoped>\n",
       "    .dataframe tbody tr th:only-of-type {\n",
       "        vertical-align: middle;\n",
       "    }\n",
       "\n",
       "    .dataframe tbody tr th {\n",
       "        vertical-align: top;\n",
       "    }\n",
       "\n",
       "    .dataframe thead th {\n",
       "        text-align: right;\n",
       "    }\n",
       "</style>\n",
       "<table border=\"1\" class=\"dataframe\">\n",
       "  <thead>\n",
       "    <tr style=\"text-align: right;\">\n",
       "      <th></th>\n",
       "      <th>Tsunami Magnitude (Iida)</th>\n",
       "      <th>Tsunami Intensity</th>\n",
       "    </tr>\n",
       "  </thead>\n",
       "  <tbody>\n",
       "    <tr>\n",
       "      <th>1489</th>\n",
       "      <td>-2.3</td>\n",
       "      <td>-1.0</td>\n",
       "    </tr>\n",
       "    <tr>\n",
       "      <th>12</th>\n",
       "      <td>0.5</td>\n",
       "      <td>1.0</td>\n",
       "    </tr>\n",
       "    <tr>\n",
       "      <th>1579</th>\n",
       "      <td>-1.3</td>\n",
       "      <td>0.5</td>\n",
       "    </tr>\n",
       "    <tr>\n",
       "      <th>1414</th>\n",
       "      <td>2.0</td>\n",
       "      <td>2.5</td>\n",
       "    </tr>\n",
       "    <tr>\n",
       "      <th>1363</th>\n",
       "      <td>-1.0</td>\n",
       "      <td>-1.0</td>\n",
       "    </tr>\n",
       "    <tr>\n",
       "      <th>...</th>\n",
       "      <td>...</td>\n",
       "      <td>...</td>\n",
       "    </tr>\n",
       "    <tr>\n",
       "      <th>1598</th>\n",
       "      <td>2.2</td>\n",
       "      <td>2.0</td>\n",
       "    </tr>\n",
       "    <tr>\n",
       "      <th>161</th>\n",
       "      <td>1.0</td>\n",
       "      <td>1.0</td>\n",
       "    </tr>\n",
       "    <tr>\n",
       "      <th>192</th>\n",
       "      <td>1.0</td>\n",
       "      <td>0.0</td>\n",
       "    </tr>\n",
       "    <tr>\n",
       "      <th>362</th>\n",
       "      <td>1.8</td>\n",
       "      <td>1.5</td>\n",
       "    </tr>\n",
       "    <tr>\n",
       "      <th>1338</th>\n",
       "      <td>1.8</td>\n",
       "      <td>0.5</td>\n",
       "    </tr>\n",
       "  </tbody>\n",
       "</table>\n",
       "<p>172 rows × 2 columns</p>\n",
       "</div>"
      ],
      "text/plain": [
       "      Tsunami Magnitude (Iida)  Tsunami Intensity\n",
       "1489                      -2.3               -1.0\n",
       "12                         0.5                1.0\n",
       "1579                      -1.3                0.5\n",
       "1414                       2.0                2.5\n",
       "1363                      -1.0               -1.0\n",
       "...                        ...                ...\n",
       "1598                       2.2                2.0\n",
       "161                        1.0                1.0\n",
       "192                        1.0                0.0\n",
       "362                        1.8                1.5\n",
       "1338                       1.8                0.5\n",
       "\n",
       "[172 rows x 2 columns]"
      ]
     },
     "execution_count": 60,
     "metadata": {},
     "output_type": "execute_result"
    }
   ],
   "source": [
    "pd.concat([X_test,y_test],axis=1)\n"
   ]
  },
  {
   "cell_type": "code",
   "execution_count": 61,
   "metadata": {},
   "outputs": [
    {
     "data": {
      "text/plain": [
       "LinearRegression()"
      ]
     },
     "execution_count": 61,
     "metadata": {},
     "output_type": "execute_result"
    }
   ],
   "source": [
    "from sklearn.linear_model import LinearRegression\n",
    "from sklearn.metrics import mean_squared_error\n",
    "\n",
    "\n",
    "lr = LinearRegression()\n",
    "lr.fit(X_train, y_train)\n"
   ]
  },
  {
   "cell_type": "code",
   "execution_count": 62,
   "metadata": {},
   "outputs": [
    {
     "name": "stdout",
     "output_type": "stream",
     "text": [
      "alpha is 0.20261027571810158\n",
      "beta is [0.75773862]\n"
     ]
    }
   ],
   "source": [
    "print('alpha is',lr.intercept_)\n",
    "print('beta is', lr.coef_)\n"
   ]
  },
  {
   "cell_type": "code",
   "execution_count": 63,
   "metadata": {},
   "outputs": [
    {
     "data": {
      "text/plain": [
       "array([-1.54018855,  0.58147958, -0.78244993,  1.71808751, -0.55512834,\n",
       "        2.47582613, -0.32780676,  2.70314771,  0.88457503,  1.71808751,\n",
       "        4.67326812,  2.62737385,  0.58147958, -0.32780676,  0.42993186,\n",
       "       -0.55512834, -0.78244993,  0.96034889,  0.12683641, -2.29792716,\n",
       "       -2.29792716,  0.96034889, -2.29792716, -0.17625903,  2.09695682,\n",
       "        1.86963523,  1.56653979, -1.54018855, -0.17625903, -2.29792716,\n",
       "        2.47582613,  1.3392182 , -2.29792716, -2.29792716, -0.55512834,\n",
       "       -1.08554537,  3.38511247,  1.71808751,  3.46088633,  1.3392182 ,\n",
       "        0.65725345,  0.96034889,  0.96034889,  2.09695682, -2.29792716,\n",
       "        2.9304693 , -0.17625903,  1.71808751,  3.38511247, -0.17625903,\n",
       "       -1.54018855, -2.29792716, -2.29792716,  0.96034889,  2.40005227,\n",
       "        1.03612276, -0.78244993, -2.29792716,  1.71808751,  1.41499206,\n",
       "        0.96034889,  1.18767048,  0.96034889,  0.80880117,  0.12683641,\n",
       "        2.77892158, -0.02471131,  0.42993186,  1.71808751,  0.65725345,\n",
       "        1.41499206,  1.3392182 , -0.55512834, -0.78244993, -2.29792716,\n",
       "        2.47582613,  2.62737385,  0.96034889, -1.54018855, -0.17625903,\n",
       "        0.96034889,  2.62737385,  2.70314771,  3.15779088,  0.96034889,\n",
       "        3.46088633,  3.15779088, -1.54018855,  1.9454091 ,  1.3392182 ,\n",
       "        3.23356475,  2.32427841,  2.62737385, -0.32780676,  0.65725345,\n",
       "        0.58147958,  2.24850454,  0.96034889,  1.56653979,  1.41499206,\n",
       "        2.77892158,  0.96034889, -1.54018855,  1.3392182 ,  0.96034889,\n",
       "        1.03612276,  1.9454091 ,  2.70314771,  0.96034889, -1.08554537,\n",
       "       -1.54018855,  0.96034889, -0.78244993, -0.32780676,  1.71808751,\n",
       "        0.96034889, -0.78244993,  3.00624316, -0.78244993,  0.96034889,\n",
       "        1.18767048,  1.41499206, -0.02471131,  1.9454091 ,  0.96034889,\n",
       "        1.41499206, -1.54018855,  2.62737385,  4.14285109,  1.18767048,\n",
       "       -0.02471131,  0.96034889, -1.54018855,  2.9304693 ,  0.96034889,\n",
       "       -0.78244993,  3.23356475,  0.96034889,  0.96034889,  1.71808751,\n",
       "       -0.55512834,  2.70314771, -0.55512834,  0.96034889,  0.96034889,\n",
       "        2.70314771,  4.06707723, -1.54018855,  0.58147958, -1.54018855,\n",
       "        3.9155295 ,  0.96034889,  3.15779088, -2.29792716,  1.71808751,\n",
       "        0.96034889,  3.46088633, -1.08554537,  1.3392182 ,  0.64209867,\n",
       "        3.68820792, -0.78244993,  3.15779088, -1.08554537, -2.29792716,\n",
       "        0.96034889, -1.54018855,  1.86963523,  0.96034889,  0.96034889,\n",
       "        1.56653979,  1.56653979])"
      ]
     },
     "execution_count": 63,
     "metadata": {},
     "output_type": "execute_result"
    }
   ],
   "source": [
    "lr.predict(X_test)\n"
   ]
  },
  {
   "cell_type": "code",
   "execution_count": 64,
   "metadata": {},
   "outputs": [
    {
     "data": {
      "text/plain": [
       "0.8804709103466859"
      ]
     },
     "execution_count": 64,
     "metadata": {},
     "output_type": "execute_result"
    }
   ],
   "source": [
    "from sklearn.metrics import mean_squared_error\n",
    "mean_squared_error(y_test, lr.predict(X_test))\n"
   ]
  },
  {
   "cell_type": "code",
   "execution_count": 67,
   "metadata": {},
   "outputs": [
    {
     "name": "stderr",
     "output_type": "stream",
     "text": [
      "C:\\Users\\imypo\\anaconda3\\lib\\site-packages\\seaborn\\_decorators.py:36: FutureWarning: Pass the following variables as keyword args: x, y. From version 0.12, the only valid positional argument will be `data`, and passing other arguments without an explicit keyword will result in an error or misinterpretation.\n",
      "  warnings.warn(\n",
      "C:\\Users\\imypo\\anaconda3\\lib\\site-packages\\seaborn\\_decorators.py:36: FutureWarning: Pass the following variables as keyword args: x, y. From version 0.12, the only valid positional argument will be `data`, and passing other arguments without an explicit keyword will result in an error or misinterpretation.\n",
      "  warnings.warn(\n",
      "C:\\Users\\imypo\\anaconda3\\lib\\site-packages\\seaborn\\_decorators.py:36: FutureWarning: Pass the following variables as keyword args: x, y. From version 0.12, the only valid positional argument will be `data`, and passing other arguments without an explicit keyword will result in an error or misinterpretation.\n",
      "  warnings.warn(\n"
     ]
    },
    {
     "data": {
      "text/plain": [
       "<AxesSubplot:xlabel='Tsunami Magnitude (Iida)', ylabel='Tsunami Intensity'>"
      ]
     },
     "execution_count": 67,
     "metadata": {},
     "output_type": "execute_result"
    },
    {
     "data": {
      "image/png": "[encoded data removed]",
      "text/plain": [
       "<Figure size 432x288 with 1 Axes>"
      ]
     },
     "metadata": {
      "needs_background": "light"
     },
     "output_type": "display_data"
    }
   ],
   "source": [
    "import numpy as np\n",
    "\n",
    "x_range = np.arange(start=temp['Tsunami Magnitude (Iida)'].min(),stop=temp['Tsunami Magnitude (Iida)'].max(),step=0.1)\n",
    "y_hat = lr.intercept_ + lr.coef_[0]*x_range\n",
    "sns.scatterplot(X_train['Tsunami Magnitude (Iida)'], y_train, label='train')\n",
    "sns.scatterplot(X_test['Tsunami Magnitude (Iida)'], y_test, label='test')\n",
    "sns.lineplot(x_range,y_hat)\n",
    "# plt.plot(y_hat, color='r')\n",
    "# plt.legend()"
   ]
  },
  {
   "cell_type": "markdown",
   "metadata": {},
   "source": [
    "## References\n",
    "\n",
    "Kaggle: https://www.kaggle.com/ramjasmaurya/historical-data-of-tsunamis18002021\n",
    "\n"
   ]
  },
  {
   "cell_type": "code",
   "execution_count": null,
   "metadata": {},
   "outputs": [],
   "source": []
  }
 ],
 "metadata": {
  "c1_recart": "6.5.0-57c20131aabc1dc2a8c675852d80a7da",
  "kernelspec": {
   "display_name": "Python 3",
   "language": "python",
   "name": "python3"
  },
  "language_info": {
   "codemirror_mode": {
    "name": "ipython",
    "version": 3
   },
   "file_extension": ".py",
   "mimetype": "text/x-python",
   "name": "python",
   "nbconvert_exporter": "python",
   "pygments_lexer": "ipython3",
   "version": "3.8.8"
  }
 },
 "nbformat": 4,
 "nbformat_minor": 2
}
